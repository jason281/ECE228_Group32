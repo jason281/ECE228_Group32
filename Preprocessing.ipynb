{
 "cells": [
  {
   "cell_type": "markdown",
   "metadata": {},
   "source": [
    "# Load Data"
   ]
  },
  {
   "cell_type": "code",
   "execution_count": 1,
   "metadata": {},
   "outputs": [],
   "source": [
    "import pandas as pd\n",
    "import numpy as np\n",
    "import os, pickle\n",
    "from tqdm import tqdm_notebook as tqdm"
   ]
  },
  {
   "cell_type": "code",
   "execution_count": 112,
   "metadata": {},
   "outputs": [
    {
     "data": {
      "application/vnd.jupyter.widget-view+json": {
       "model_id": "78952e2b600a4238b49039f75ce66776",
       "version_major": 2,
       "version_minor": 0
      },
      "text/plain": [
       "HBox(children=(IntProgress(value=0, max=60), HTML(value='')))"
      ]
     },
     "metadata": {},
     "output_type": "display_data"
    },
    {
     "name": "stdout",
     "output_type": "stream",
     "text": [
      "\n"
     ]
    }
   ],
   "source": [
    "dataset_dir = '../ExtraSensory.per_uuid_features_labels'\n",
    "label_dir = '../ExtraSensory.per_uuid_original_labels'\n",
    "data = pd.DataFrame()\n",
    "for filename in tqdm(os.listdir(dataset_dir)):\n",
    "    key = filename[:filename.find('.')]\n",
    "    csv = pd.read_csv(os.path.join(dataset_dir, filename), index_col=0)\n",
    "    label = pd.read_csv(os.path.join(label_dir, key+'.original_labels.csv.gz'), index_col=0)\n",
    "    csv = csv.join(label.drop('label_source', axis=1))\n",
    "    csv = pd.concat([csv], keys=[key], names=['filename'])\n",
    "    data = csv if data.empty else data.append(csv)"
   ]
  },
  {
   "cell_type": "code",
   "execution_count": 113,
   "metadata": {},
   "outputs": [],
   "source": [
    "data.columns = pd.MultiIndex.from_tuples([tuple(i.split(':')) for i in data.columns], names=['1', '2', '3'])"
   ]
  },
  {
   "cell_type": "code",
   "execution_count": 114,
   "metadata": {},
   "outputs": [],
   "source": [
    "labels_col = [i for i in data.columns if i[0].startswith('original_label')]\n",
    "main_labels_col = [('main_label', i[1], i[2]) for i in labels_col[:7]]"
   ]
  },
  {
   "cell_type": "code",
   "execution_count": 115,
   "metadata": {},
   "outputs": [
    {
     "data": {
      "text/plain": [
       "(377346, 7)"
      ]
     },
     "execution_count": 115,
     "metadata": {},
     "output_type": "execute_result"
    }
   ],
   "source": [
    "data[labels_col[:7]].values.shape"
   ]
  },
  {
   "cell_type": "code",
   "execution_count": 116,
   "metadata": {},
   "outputs": [],
   "source": [
    "df = pd.DataFrame(data[labels_col[:7]].values,\\\n",
    "                  columns=pd.MultiIndex.from_tuples(main_labels_col, names=['1', '2', '3']), \\\n",
    "                  index=data.index)\n",
    "\n",
    "data = data.join(df)"
   ]
  },
  {
   "cell_type": "code",
   "execution_count": 120,
   "metadata": {},
   "outputs": [],
   "source": [
    "data[('main_label', 'missing', np.nan)] = 1-data['main_label'].sum(axis=1)"
   ]
  },
  {
   "cell_type": "code",
   "execution_count": 122,
   "metadata": {},
   "outputs": [
    {
     "data": {
      "text/plain": [
       "(377346, 401)"
      ]
     },
     "execution_count": 122,
     "metadata": {},
     "output_type": "execute_result"
    }
   ],
   "source": [
    "data.shape"
   ]
  },
  {
   "cell_type": "code",
   "execution_count": 123,
   "metadata": {},
   "outputs": [
    {
     "data": {
      "text/html": [
       "<div>\n",
       "<style scoped>\n",
       "    .dataframe tbody tr th:only-of-type {\n",
       "        vertical-align: middle;\n",
       "    }\n",
       "\n",
       "    .dataframe tbody tr th {\n",
       "        vertical-align: top;\n",
       "    }\n",
       "\n",
       "    .dataframe thead tr th {\n",
       "        text-align: left;\n",
       "    }\n",
       "\n",
       "    .dataframe thead tr:last-of-type th {\n",
       "        text-align: right;\n",
       "    }\n",
       "</style>\n",
       "<table border=\"1\" class=\"dataframe\">\n",
       "  <thead>\n",
       "    <tr>\n",
       "      <th></th>\n",
       "      <th>1</th>\n",
       "      <th colspan=\"10\" halign=\"left\">raw_acc</th>\n",
       "      <th>...</th>\n",
       "      <th colspan=\"2\" halign=\"left\">original_label</th>\n",
       "      <th colspan=\"8\" halign=\"left\">main_label</th>\n",
       "    </tr>\n",
       "    <tr>\n",
       "      <th></th>\n",
       "      <th>2</th>\n",
       "      <th colspan=\"9\" halign=\"left\">magnitude_stats</th>\n",
       "      <th>magnitude_spectrum</th>\n",
       "      <th>...</th>\n",
       "      <th>TAKING_CARE_OF_KIDS</th>\n",
       "      <th>WITH_A_PET</th>\n",
       "      <th>LYING_DOWN</th>\n",
       "      <th>SITTING</th>\n",
       "      <th>STANDING_IN_PLACE</th>\n",
       "      <th>STANDING_AND_MOVING</th>\n",
       "      <th>WALKING</th>\n",
       "      <th>RUNNING</th>\n",
       "      <th>BICYCLING</th>\n",
       "      <th>missing</th>\n",
       "    </tr>\n",
       "    <tr>\n",
       "      <th></th>\n",
       "      <th>3</th>\n",
       "      <th>mean</th>\n",
       "      <th>std</th>\n",
       "      <th>moment3</th>\n",
       "      <th>moment4</th>\n",
       "      <th>percentile25</th>\n",
       "      <th>percentile50</th>\n",
       "      <th>percentile75</th>\n",
       "      <th>value_entropy</th>\n",
       "      <th>time_entropy</th>\n",
       "      <th>log_energy_band0</th>\n",
       "      <th>...</th>\n",
       "      <th>NaN</th>\n",
       "      <th>NaN</th>\n",
       "      <th>NaN</th>\n",
       "      <th>NaN</th>\n",
       "      <th>NaN</th>\n",
       "      <th>NaN</th>\n",
       "      <th>NaN</th>\n",
       "      <th>NaN</th>\n",
       "      <th>NaN</th>\n",
       "      <th>NaN</th>\n",
       "    </tr>\n",
       "    <tr>\n",
       "      <th>filename</th>\n",
       "      <th>timestamp</th>\n",
       "      <th></th>\n",
       "      <th></th>\n",
       "      <th></th>\n",
       "      <th></th>\n",
       "      <th></th>\n",
       "      <th></th>\n",
       "      <th></th>\n",
       "      <th></th>\n",
       "      <th></th>\n",
       "      <th></th>\n",
       "      <th></th>\n",
       "      <th></th>\n",
       "      <th></th>\n",
       "      <th></th>\n",
       "      <th></th>\n",
       "      <th></th>\n",
       "      <th></th>\n",
       "      <th></th>\n",
       "      <th></th>\n",
       "      <th></th>\n",
       "      <th></th>\n",
       "    </tr>\n",
       "  </thead>\n",
       "  <tbody>\n",
       "    <tr>\n",
       "      <th rowspan=\"5\" valign=\"top\">11B5EC4D-4133-4289-B475-4E737182A406</th>\n",
       "      <th>1440000455</th>\n",
       "      <td>1.004012</td>\n",
       "      <td>0.040490</td>\n",
       "      <td>0.100981</td>\n",
       "      <td>0.178834</td>\n",
       "      <td>1.000016</td>\n",
       "      <td>1.003875</td>\n",
       "      <td>1.006938</td>\n",
       "      <td>0.327604</td>\n",
       "      <td>6.683913</td>\n",
       "      <td>5.043690</td>\n",
       "      <td>...</td>\n",
       "      <td>0</td>\n",
       "      <td>0</td>\n",
       "      <td>0</td>\n",
       "      <td>1</td>\n",
       "      <td>0</td>\n",
       "      <td>0</td>\n",
       "      <td>0</td>\n",
       "      <td>0</td>\n",
       "      <td>0</td>\n",
       "      <td>0</td>\n",
       "    </tr>\n",
       "    <tr>\n",
       "      <th>1440000515</th>\n",
       "      <td>1.002203</td>\n",
       "      <td>0.011955</td>\n",
       "      <td>-0.004731</td>\n",
       "      <td>0.025712</td>\n",
       "      <td>0.999446</td>\n",
       "      <td>1.002202</td>\n",
       "      <td>1.004927</td>\n",
       "      <td>1.209564</td>\n",
       "      <td>6.684541</td>\n",
       "      <td>5.043621</td>\n",
       "      <td>...</td>\n",
       "      <td>0</td>\n",
       "      <td>0</td>\n",
       "      <td>0</td>\n",
       "      <td>1</td>\n",
       "      <td>0</td>\n",
       "      <td>0</td>\n",
       "      <td>0</td>\n",
       "      <td>0</td>\n",
       "      <td>0</td>\n",
       "      <td>0</td>\n",
       "    </tr>\n",
       "    <tr>\n",
       "      <th>1440000575</th>\n",
       "      <td>1.002147</td>\n",
       "      <td>0.005930</td>\n",
       "      <td>0.006193</td>\n",
       "      <td>0.014327</td>\n",
       "      <td>0.999737</td>\n",
       "      <td>1.002325</td>\n",
       "      <td>1.004686</td>\n",
       "      <td>1.214844</td>\n",
       "      <td>6.684594</td>\n",
       "      <td>5.043792</td>\n",
       "      <td>...</td>\n",
       "      <td>0</td>\n",
       "      <td>0</td>\n",
       "      <td>0</td>\n",
       "      <td>1</td>\n",
       "      <td>0</td>\n",
       "      <td>0</td>\n",
       "      <td>0</td>\n",
       "      <td>0</td>\n",
       "      <td>0</td>\n",
       "      <td>0</td>\n",
       "    </tr>\n",
       "    <tr>\n",
       "      <th>1440000635</th>\n",
       "      <td>1.001937</td>\n",
       "      <td>0.005161</td>\n",
       "      <td>-0.007264</td>\n",
       "      <td>0.015998</td>\n",
       "      <td>0.999730</td>\n",
       "      <td>1.001946</td>\n",
       "      <td>1.004220</td>\n",
       "      <td>0.919200</td>\n",
       "      <td>6.684598</td>\n",
       "      <td>5.043255</td>\n",
       "      <td>...</td>\n",
       "      <td>0</td>\n",
       "      <td>0</td>\n",
       "      <td>0</td>\n",
       "      <td>1</td>\n",
       "      <td>0</td>\n",
       "      <td>0</td>\n",
       "      <td>0</td>\n",
       "      <td>0</td>\n",
       "      <td>0</td>\n",
       "      <td>0</td>\n",
       "    </tr>\n",
       "    <tr>\n",
       "      <th>1440000695</th>\n",
       "      <td>1.005683</td>\n",
       "      <td>0.066262</td>\n",
       "      <td>0.166331</td>\n",
       "      <td>0.291310</td>\n",
       "      <td>0.999031</td>\n",
       "      <td>1.003126</td>\n",
       "      <td>1.008375</td>\n",
       "      <td>0.353075</td>\n",
       "      <td>6.682873</td>\n",
       "      <td>5.036964</td>\n",
       "      <td>...</td>\n",
       "      <td>0</td>\n",
       "      <td>0</td>\n",
       "      <td>0</td>\n",
       "      <td>1</td>\n",
       "      <td>0</td>\n",
       "      <td>0</td>\n",
       "      <td>0</td>\n",
       "      <td>0</td>\n",
       "      <td>0</td>\n",
       "      <td>0</td>\n",
       "    </tr>\n",
       "  </tbody>\n",
       "</table>\n",
       "<p>5 rows × 401 columns</p>\n",
       "</div>"
      ],
      "text/plain": [
       "1                                                       raw_acc            \\\n",
       "2                                               magnitude_stats             \n",
       "3                                                          mean       std   \n",
       "filename                             timestamp                              \n",
       "11B5EC4D-4133-4289-B475-4E737182A406 1440000455        1.004012  0.040490   \n",
       "                                     1440000515        1.002203  0.011955   \n",
       "                                     1440000575        1.002147  0.005930   \n",
       "                                     1440000635        1.001937  0.005161   \n",
       "                                     1440000695        1.005683  0.066262   \n",
       "\n",
       "1                                                                    \\\n",
       "2                                                                     \n",
       "3                                                 moment3   moment4   \n",
       "filename                             timestamp                        \n",
       "11B5EC4D-4133-4289-B475-4E737182A406 1440000455  0.100981  0.178834   \n",
       "                                     1440000515 -0.004731  0.025712   \n",
       "                                     1440000575  0.006193  0.014327   \n",
       "                                     1440000635 -0.007264  0.015998   \n",
       "                                     1440000695  0.166331  0.291310   \n",
       "\n",
       "1                                                                          \\\n",
       "2                                                                           \n",
       "3                                               percentile25 percentile50   \n",
       "filename                             timestamp                              \n",
       "11B5EC4D-4133-4289-B475-4E737182A406 1440000455     1.000016     1.003875   \n",
       "                                     1440000515     0.999446     1.002202   \n",
       "                                     1440000575     0.999737     1.002325   \n",
       "                                     1440000635     0.999730     1.001946   \n",
       "                                     1440000695     0.999031     1.003126   \n",
       "\n",
       "1                                                                           \\\n",
       "2                                                                            \n",
       "3                                               percentile75 value_entropy   \n",
       "filename                             timestamp                               \n",
       "11B5EC4D-4133-4289-B475-4E737182A406 1440000455     1.006938      0.327604   \n",
       "                                     1440000515     1.004927      1.209564   \n",
       "                                     1440000575     1.004686      1.214844   \n",
       "                                     1440000635     1.004220      0.919200   \n",
       "                                     1440000695     1.008375      0.353075   \n",
       "\n",
       "1                                                             \\\n",
       "2                                                              \n",
       "3                                               time_entropy   \n",
       "filename                             timestamp                 \n",
       "11B5EC4D-4133-4289-B475-4E737182A406 1440000455     6.683913   \n",
       "                                     1440000515     6.684541   \n",
       "                                     1440000575     6.684594   \n",
       "                                     1440000635     6.684598   \n",
       "                                     1440000695     6.682873   \n",
       "\n",
       "1                                                                    ...    \\\n",
       "2                                               magnitude_spectrum   ...     \n",
       "3                                                 log_energy_band0   ...     \n",
       "filename                             timestamp                       ...     \n",
       "11B5EC4D-4133-4289-B475-4E737182A406 1440000455           5.043690   ...     \n",
       "                                     1440000515           5.043621   ...     \n",
       "                                     1440000575           5.043792   ...     \n",
       "                                     1440000635           5.043255   ...     \n",
       "                                     1440000695           5.036964   ...     \n",
       "\n",
       "1                                                    original_label  \\\n",
       "2                                               TAKING_CARE_OF_KIDS   \n",
       "3                                                               NaN   \n",
       "filename                             timestamp                        \n",
       "11B5EC4D-4133-4289-B475-4E737182A406 1440000455                   0   \n",
       "                                     1440000515                   0   \n",
       "                                     1440000575                   0   \n",
       "                                     1440000635                   0   \n",
       "                                     1440000695                   0   \n",
       "\n",
       "1                                                          main_label          \\\n",
       "2                                               WITH_A_PET LYING_DOWN SITTING   \n",
       "3                                                      NaN        NaN     NaN   \n",
       "filename                             timestamp                                  \n",
       "11B5EC4D-4133-4289-B475-4E737182A406 1440000455          0          0       1   \n",
       "                                     1440000515          0          0       1   \n",
       "                                     1440000575          0          0       1   \n",
       "                                     1440000635          0          0       1   \n",
       "                                     1440000695          0          0       1   \n",
       "\n",
       "1                                                                  \\\n",
       "2                                               STANDING_IN_PLACE   \n",
       "3                                                             NaN   \n",
       "filename                             timestamp                      \n",
       "11B5EC4D-4133-4289-B475-4E737182A406 1440000455                 0   \n",
       "                                     1440000515                 0   \n",
       "                                     1440000575                 0   \n",
       "                                     1440000635                 0   \n",
       "                                     1440000695                 0   \n",
       "\n",
       "1                                                                            \\\n",
       "2                                               STANDING_AND_MOVING WALKING   \n",
       "3                                                               NaN     NaN   \n",
       "filename                             timestamp                                \n",
       "11B5EC4D-4133-4289-B475-4E737182A406 1440000455                   0       0   \n",
       "                                     1440000515                   0       0   \n",
       "                                     1440000575                   0       0   \n",
       "                                     1440000635                   0       0   \n",
       "                                     1440000695                   0       0   \n",
       "\n",
       "1                                                                          \n",
       "2                                               RUNNING BICYCLING missing  \n",
       "3                                                   NaN       NaN     NaN  \n",
       "filename                             timestamp                             \n",
       "11B5EC4D-4133-4289-B475-4E737182A406 1440000455       0         0       0  \n",
       "                                     1440000515       0         0       0  \n",
       "                                     1440000575       0         0       0  \n",
       "                                     1440000635       0         0       0  \n",
       "                                     1440000695       0         0       0  \n",
       "\n",
       "[5 rows x 401 columns]"
      ]
     },
     "execution_count": 123,
     "metadata": {},
     "output_type": "execute_result"
    }
   ],
   "source": [
    "data.head()"
   ]
  },
  {
   "cell_type": "markdown",
   "metadata": {},
   "source": [
    "# Train/test split"
   ]
  },
  {
   "cell_type": "code",
   "execution_count": 124,
   "metadata": {},
   "outputs": [],
   "source": [
    "users = list(set(data.index.get_level_values(0)))\n",
    "np.random.shuffle(users)\n",
    "train_user_num = int(len(users)*0.8)\n",
    "valid_user_num = int(len(users)*0.1)\n",
    "test_user_num = len(users) - train_user_num - valid_user_num"
   ]
  },
  {
   "cell_type": "code",
   "execution_count": 125,
   "metadata": {},
   "outputs": [],
   "source": [
    "train, valid = data.loc[users[:train_user_num]], data.loc[users[train_user_num:train_user_num+valid_user_num]]\n",
    "test = data.loc[users[-test_user_num:]]"
   ]
  },
  {
   "cell_type": "code",
   "execution_count": 126,
   "metadata": {},
   "outputs": [
    {
     "data": {
      "text/plain": [
       "(287420, 44632, 45294)"
      ]
     },
     "execution_count": 126,
     "metadata": {},
     "output_type": "execute_result"
    }
   ],
   "source": [
    "len(train), len(valid), len(test)"
   ]
  },
  {
   "cell_type": "code",
   "execution_count": 127,
   "metadata": {},
   "outputs": [],
   "source": [
    "pickle.dump((train, valid, test), open('dataset.pickle', 'wb'))"
   ]
  },
  {
   "cell_type": "code",
   "execution_count": null,
   "metadata": {},
   "outputs": [],
   "source": []
  }
 ],
 "metadata": {
  "kernelspec": {
   "display_name": "Python 3",
   "language": "python",
   "name": "python3"
  },
  "language_info": {
   "codemirror_mode": {
    "name": "ipython",
    "version": 3
   },
   "file_extension": ".py",
   "mimetype": "text/x-python",
   "name": "python",
   "nbconvert_exporter": "python",
   "pygments_lexer": "ipython3",
   "version": "3.6.8"
  },
  "varInspector": {
   "cols": {
    "lenName": 16,
    "lenType": 16,
    "lenVar": 40
   },
   "kernels_config": {
    "python": {
     "delete_cmd_postfix": "",
     "delete_cmd_prefix": "del ",
     "library": "var_list.py",
     "varRefreshCmd": "print(var_dic_list())"
    },
    "r": {
     "delete_cmd_postfix": ") ",
     "delete_cmd_prefix": "rm(",
     "library": "var_list.r",
     "varRefreshCmd": "cat(var_dic_list()) "
    }
   },
   "types_to_exclude": [
    "module",
    "function",
    "builtin_function_or_method",
    "instance",
    "_Feature"
   ],
   "window_display": false
  }
 },
 "nbformat": 4,
 "nbformat_minor": 2
}
