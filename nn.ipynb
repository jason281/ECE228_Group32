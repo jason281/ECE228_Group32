{
 "cells": [
  {
   "cell_type": "code",
   "execution_count": 1,
   "metadata": {},
   "outputs": [
    {
     "name": "stderr",
     "output_type": "stream",
     "text": [
      "/opt/conda/lib/python3.6/site-packages/h5py/__init__.py:36: FutureWarning: Conversion of the second argument of issubdtype from `float` to `np.floating` is deprecated. In future, it will be treated as `np.float64 == np.dtype(float).type`.\n",
      "  from ._conv import register_converters as _register_converters\n",
      "Using TensorFlow backend.\n"
     ]
    }
   ],
   "source": [
    "import pickle\n",
    "import matplotlib.pyplot as plt\n",
    "import numpy as np\n",
    "from keras.models import Sequential\n",
    "import keras.layers\n",
    "from keras.layers import Dense\n",
    "from keras.layers import Dropout\n",
    "from keras.layers import LSTM\n",
    "from keras.layers import BatchNormalization\n",
    "from keras.regularizers import L1L2\n",
    "from keras.callbacks import EarlyStopping\n",
    "from keras.wrappers.scikit_learn import KerasClassifier\n",
    "from keras.utils import np_utils\n",
    "from sklearn.preprocessing import MinMaxScaler\n",
    "from sklearn.model_selection import cross_val_score\n",
    "from sklearn.model_selection import KFold\n",
    "from sklearn.preprocessing import LabelEncoder\n",
    "from sklearn.pipeline import Pipeline\n",
    "from sklearn.metrics import accuracy_score\n",
    "import tensorflow as tf"
   ]
  },
  {
   "cell_type": "code",
   "execution_count": 2,
   "metadata": {},
   "outputs": [],
   "source": [
    "np.random.seed(0)\n",
    "train, valid, test = pickle.load(open('dataset.pickle', 'rb'))\n",
    "train = train.fillna(0)\n",
    "valid = train.fillna(0)\n",
    "test = test.fillna(0)"
   ]
  },
  {
   "cell_type": "code",
   "execution_count": 3,
   "metadata": {},
   "outputs": [],
   "source": [
    "x_train = train[['raw_acc','proc_gyro','raw_magnet','watch_acceleration','watch_heading', 'location', 'location_quick_features', 'audio_naive', 'audio_properties', 'discrete', 'lf_measurements']]\n",
    "y_train = train.iloc[:,-8:]\n",
    "x_valid = valid[['raw_acc','proc_gyro','raw_magnet','watch_acceleration','watch_heading', 'location', 'location_quick_features', 'audio_naive', 'audio_properties', 'discrete', 'lf_measurements']]\n",
    "y_valid = np.asarray(valid.iloc[:,-8:])\n",
    "x_test = test[['raw_acc','proc_gyro','raw_magnet','watch_acceleration','watch_heading', 'location', 'location_quick_features', 'audio_naive', 'audio_properties', 'discrete', 'lf_measurements']]\n",
    "y_test = np.asarray(test.iloc[:,-8:])"
   ]
  },
  {
   "cell_type": "code",
   "execution_count": 4,
   "metadata": {},
   "outputs": [],
   "source": [
    "scaler = MinMaxScaler() #scale features between 0 and 1\n",
    "x_train = scaler.fit_transform(x_train)\n",
    "#x_train = np.asarray(x_train).reshape(x_train.shape[0], 1, x_train.shape[1])\n",
    "x_valid = scaler.fit_transform(x_valid)\n",
    "x_test = scaler.fit_transform(x_test)\n",
    "#x_test = np.asarray(x_test).reshape(x_test.shape[0], 1, x_test.shape[1])"
   ]
  },
  {
   "cell_type": "code",
   "execution_count": 5,
   "metadata": {},
   "outputs": [],
   "source": [
    "model = Sequential()\n",
    "#model.add(LSTM(500, input_shape=(x_train.shape[1], x_train.shape[2]), bias_regularizer=L1L2(l1=0.01, l2=0.01)))\n",
    "#model.add(LSTM(500, input_shape=(x_train.shape[1], x_train.shape[2])))\n",
    "model.add(Dense(2000, input_dim=x_train.shape[1], activation='relu'))\n",
    "model.add(Dropout(0.2, noise_shape=None, seed=None))\n",
    "model.add(BatchNormalization())\n",
    "model.add(Dense(100, activation='relu'))\n",
    "model.add(BatchNormalization())\n",
    "model.add(Dense(y_train.shape[1], activation='softmax'))\n",
    "model.compile(loss='categorical_crossentropy', optimizer='adam', metrics=['accuracy'])"
   ]
  },
  {
   "cell_type": "code",
   "execution_count": 6,
   "metadata": {},
   "outputs": [
    {
     "name": "stdout",
     "output_type": "stream",
     "text": [
      "Train on 297773 samples, validate on 297773 samples\n",
      "Epoch 1/20\n",
      "297773/297773 [==============================] - 55s 186us/step - loss: 1.0518 - acc: 0.6165 - val_loss: 0.9971 - val_acc: 0.6240\n",
      "Epoch 2/20\n",
      "297773/297773 [==============================] - 58s 195us/step - loss: 0.9685 - acc: 0.6433 - val_loss: 0.9152 - val_acc: 0.6632\n",
      "Epoch 3/20\n",
      "297773/297773 [==============================] - 62s 208us/step - loss: 0.9274 - acc: 0.6583 - val_loss: 0.8597 - val_acc: 0.6838\n",
      "Epoch 4/20\n",
      "297773/297773 [==============================] - 62s 208us/step - loss: 0.8980 - acc: 0.6716 - val_loss: 0.8308 - val_acc: 0.6959\n",
      "Epoch 5/20\n",
      "297773/297773 [==============================] - 62s 209us/step - loss: 0.8767 - acc: 0.6799 - val_loss: 0.8294 - val_acc: 0.6928\n",
      "Epoch 6/20\n",
      "297773/297773 [==============================] - 63s 211us/step - loss: 0.8639 - acc: 0.6850 - val_loss: 0.8184 - val_acc: 0.7046\n",
      "Epoch 7/20\n",
      "297773/297773 [==============================] - 63s 212us/step - loss: 0.8475 - acc: 0.6912 - val_loss: 0.8056 - val_acc: 0.7060\n",
      "Epoch 8/20\n",
      "297773/297773 [==============================] - 63s 210us/step - loss: 0.8429 - acc: 0.6932 - val_loss: 0.7905 - val_acc: 0.7150\n",
      "Epoch 9/20\n",
      "297773/297773 [==============================] - 62s 207us/step - loss: 0.8351 - acc: 0.6972 - val_loss: 0.7548 - val_acc: 0.7265\n",
      "Epoch 10/20\n",
      "297773/297773 [==============================] - 61s 205us/step - loss: 0.8262 - acc: 0.7006 - val_loss: 0.7793 - val_acc: 0.7160\n",
      "Epoch 11/20\n",
      "297773/297773 [==============================] - 59s 197us/step - loss: 0.8206 - acc: 0.7024 - val_loss: 0.7766 - val_acc: 0.7196\n",
      "Epoch 12/20\n",
      "297773/297773 [==============================] - 61s 206us/step - loss: 0.8212 - acc: 0.7019 - val_loss: 0.7447 - val_acc: 0.7318\n",
      "Epoch 13/20\n",
      "297773/297773 [==============================] - 60s 201us/step - loss: 0.8108 - acc: 0.7064 - val_loss: 0.7412 - val_acc: 0.7383\n",
      "Epoch 14/20\n",
      "297773/297773 [==============================] - 62s 209us/step - loss: 0.8054 - acc: 0.7088 - val_loss: 0.7228 - val_acc: 0.7437\n",
      "Epoch 15/20\n",
      "297773/297773 [==============================] - 60s 202us/step - loss: 0.8035 - acc: 0.7093 - val_loss: 0.7294 - val_acc: 0.7374\n",
      "Epoch 16/20\n",
      "297773/297773 [==============================] - 59s 197us/step - loss: 0.7991 - acc: 0.7102 - val_loss: 0.7084 - val_acc: 0.7478\n",
      "Epoch 17/20\n",
      "297773/297773 [==============================] - 62s 207us/step - loss: 0.7945 - acc: 0.7128 - val_loss: 0.7215 - val_acc: 0.7391\n",
      "Epoch 18/20\n",
      "297773/297773 [==============================] - 63s 211us/step - loss: 0.7941 - acc: 0.7141 - val_loss: 0.7248 - val_acc: 0.7422\n",
      "Epoch 19/20\n",
      "297773/297773 [==============================] - 63s 211us/step - loss: 0.7910 - acc: 0.7154 - val_loss: 0.7084 - val_acc: 0.7460\n",
      "Epoch 20/20\n",
      "297773/297773 [==============================] - 63s 210us/step - loss: 0.7888 - acc: 0.7157 - val_loss: 0.7101 - val_acc: 0.7464\n"
     ]
    }
   ],
   "source": [
    "history = model.fit([x_train], batch_size=100, y=y_train, verbose=1, validation_data=(x_valid, y_valid), \n",
    "          shuffle=True, epochs=20)"
   ]
  },
  {
   "cell_type": "code",
   "execution_count": 7,
   "metadata": {},
   "outputs": [
    {
     "name": "stdout",
     "output_type": "stream",
     "text": [
      "0.4927398920348133\n"
     ]
    }
   ],
   "source": [
    "predicted = model.predict(x_test)\n",
    "predicted = np.argmax(predicted, axis=1)\n",
    "y_test_decode = np.argmax(y_test, axis=1)\n",
    "print(accuracy_score(y_test_decode, predicted))"
   ]
  },
  {
   "cell_type": "code",
   "execution_count": 9,
   "metadata": {},
   "outputs": [
    {
     "name": "stdout",
     "output_type": "stream",
     "text": [
      "Train: 0.746, Valid: 0.746, Test: 0.493\n"
     ]
    },
    {
     "data": {
      "image/png": "[encoded data removed]",
      "text/plain": [
       "<Figure size 432x288 with 1 Axes>"
      ]
     },
     "metadata": {
      "needs_background": "light"
     },
     "output_type": "display_data"
    }
   ],
   "source": [
    "# evaluate the model\n",
    "_, acc_train = model.evaluate(x_train, y_train, verbose=0)\n",
    "_, acc_valid = model.evaluate(x_valid, y_valid, verbose=0)\n",
    "_, acc_test = model.evaluate(x_test, y_test, verbose=0)\n",
    "print('Train: %.3f, Valid: %.3f, Test: %.3f' % (acc_train, acc_valid, acc_test))\n",
    "# learning curves of model accuracy\n",
    "plt.plot(history.history['acc'], label='train')\n",
    "plt.plot(history.history['val_acc'], label='valid')\n",
    "plt.legend()\n",
    "plt.xlabel('epoch')\n",
    "plt.ylabel('accuracy')\n",
    "plt.show()"
   ]
  },
  {
   "cell_type": "code",
   "execution_count": 11,
   "metadata": {},
   "outputs": [
    {
     "name": "stdout",
     "output_type": "stream",
     "text": [
      "Saved nn/2layers_val_20epoch.nn\n"
     ]
    }
   ],
   "source": [
    "# save model\n",
    "import os\n",
    "dir_name = 'nn'\n",
    "if not os.path.exists(dir_name):\n",
    "    os.makedirs(dir_name)\n",
    "filename = dir_name + '/2layers_val_20epoch.nn'\n",
    "model.save(filename)\n",
    "print('Saved %s' % filename)"
   ]
  },
  {
   "cell_type": "code",
   "execution_count": null,
   "metadata": {},
   "outputs": [],
   "source": []
  }
 ],
 "metadata": {
  "kernelspec": {
   "display_name": "Python 3",
   "language": "python",
   "name": "python3"
  },
  "language_info": {
   "codemirror_mode": {
    "name": "ipython",
    "version": 3
   },
   "file_extension": ".py",
   "mimetype": "text/x-python",
   "name": "python",
   "nbconvert_exporter": "python",
   "pygments_lexer": "ipython3",
   "version": "3.6.8"
  }
 },
 "nbformat": 4,
 "nbformat_minor": 2
}
