{
 "cells": [
  {
   "cell_type": "code",
   "execution_count": 51,
   "metadata": {},
   "outputs": [],
   "source": [
    "import pickle\n",
    "import matplotlib.pyplot as plt\n",
    "import numpy as np\n",
    "from keras.models import Sequential\n",
    "import keras.layers\n",
    "from keras.layers import Dense\n",
    "from keras.layers import Dropout\n",
    "from keras.layers import LSTM\n",
    "from keras.layers import BatchNormalization\n",
    "from keras.regularizers import L1L2\n",
    "from keras.callbacks import EarlyStopping\n",
    "from keras.wrappers.scikit_learn import KerasClassifier\n",
    "from keras.utils import np_utils\n",
    "from sklearn.preprocessing import MinMaxScaler\n",
    "from sklearn.model_selection import cross_val_score\n",
    "from sklearn.model_selection import KFold\n",
    "from sklearn.preprocessing import LabelEncoder\n",
    "from sklearn.pipeline import Pipeline\n",
    "from sklearn.metrics import accuracy_score\n",
    "import tensorflow as tf"
   ]
  },
  {
   "cell_type": "code",
   "execution_count": 52,
   "metadata": {},
   "outputs": [],
   "source": [
    "np.random.seed(0)\n",
    "train, valid, test = pickle.load(open('dataset.pickle', 'rb'))\n",
    "train = train.fillna(0)\n",
    "valid = train.fillna(0)\n",
    "test = test.fillna(0)"
   ]
  },
  {
   "cell_type": "code",
   "execution_count": 53,
   "metadata": {},
   "outputs": [],
   "source": [
    "x_train = train[['raw_acc','proc_gyro','raw_magnet','watch_acceleration','watch_heading', 'location', 'location_quick_features', 'audio_naive', 'audio_properties', 'discrete', 'lf_measurements']]\n",
    "y_train = train.iloc[:,-8:]\n",
    "x_valid = valid[['raw_acc','proc_gyro','raw_magnet','watch_acceleration','watch_heading', 'location', 'location_quick_features', 'audio_naive', 'audio_properties', 'discrete', 'lf_measurements']]\n",
    "y_valid = np.asarray(valid.iloc[:,-8:])\n",
    "x_test = test[['raw_acc','proc_gyro','raw_magnet','watch_acceleration','watch_heading', 'location', 'location_quick_features', 'audio_naive', 'audio_properties', 'discrete', 'lf_measurements']]\n",
    "y_test = np.asarray(test.iloc[:,-8:])"
   ]
  },
  {
   "cell_type": "code",
   "execution_count": 54,
   "metadata": {},
   "outputs": [],
   "source": [
    "scaler = MinMaxScaler() #scale features between 0 and 1\n",
    "x_train = scaler.fit_transform(x_train)\n",
    "#x_train = np.asarray(x_train).reshape(x_train.shape[0], 1, x_train.shape[1])\n",
    "x_valid = scaler.fit_transform(x_valid)\n",
    "x_test = scaler.fit_transform(x_test)\n",
    "#x_test = np.asarray(x_test).reshape(x_test.shape[0], 1, x_test.shape[1])"
   ]
  },
  {
   "cell_type": "code",
   "execution_count": 55,
   "metadata": {},
   "outputs": [],
   "source": [
    "model = Sequential()\n",
    "#model.add(LSTM(500, input_shape=(x_train.shape[1], x_train.shape[2]), bias_regularizer=L1L2(l1=0.01, l2=0.01)))\n",
    "#model.add(LSTM(500, input_shape=(x_train.shape[1], x_train.shape[2])))\n",
    "model.add(Dense(2000, input_dim=x_train.shape[1], activation='relu'))\n",
    "model.add(Dropout(0.2, noise_shape=None, seed=None))\n",
    "model.add(BatchNormalization())\n",
    "model.add(Dense(100, activation='relu'))\n",
    "model.add(BatchNormalization())\n",
    "model.add(Dense(y_train.shape[1], activation='softmax'))\n",
    "model.compile(loss='categorical_crossentropy', optimizer='adam', metrics=['accuracy'])"
   ]
  },
  {
   "cell_type": "code",
   "execution_count": 56,
   "metadata": {},
   "outputs": [
    {
     "name": "stdout",
     "output_type": "stream",
     "text": [
      "Train on 298911 samples, validate on 298911 samples\n",
      "Epoch 1/20\n",
      "298911/298911 [==============================] - 20s 68us/step - loss: 0.9252 - acc: 0.6778 - val_loss: 0.8786 - val_acc: 0.6915\n",
      "Epoch 2/20\n",
      "298911/298911 [==============================] - 19s 63us/step - loss: 0.7741 - acc: 0.7269 - val_loss: 0.7888 - val_acc: 0.7201\n",
      "Epoch 3/20\n",
      "298911/298911 [==============================] - 19s 63us/step - loss: 0.7224 - acc: 0.7459 - val_loss: 0.7754 - val_acc: 0.7242\n",
      "Epoch 4/20\n",
      "298911/298911 [==============================] - 20s 66us/step - loss: 0.6909 - acc: 0.7571 - val_loss: 0.7118 - val_acc: 0.7469\n",
      "Epoch 5/20\n",
      "298911/298911 [==============================] - 19s 63us/step - loss: 0.6661 - acc: 0.7665 - val_loss: 0.6760 - val_acc: 0.7614\n",
      "Epoch 6/20\n",
      "298911/298911 [==============================] - 19s 64us/step - loss: 0.6474 - acc: 0.7729 - val_loss: 0.6545 - val_acc: 0.7700\n",
      "Epoch 7/20\n",
      "298911/298911 [==============================] - 19s 64us/step - loss: 0.6318 - acc: 0.7779 - val_loss: 0.6372 - val_acc: 0.7749\n",
      "Epoch 8/20\n",
      "298911/298911 [==============================] - 20s 65us/step - loss: 0.6187 - acc: 0.7833 - val_loss: 0.6490 - val_acc: 0.7706\n",
      "Epoch 9/20\n",
      "298911/298911 [==============================] - 19s 65us/step - loss: 0.6063 - acc: 0.7880 - val_loss: 0.6557 - val_acc: 0.7695\n",
      "Epoch 10/20\n",
      "298911/298911 [==============================] - 19s 64us/step - loss: 0.5956 - acc: 0.7915 - val_loss: 0.6040 - val_acc: 0.7881\n",
      "Epoch 11/20\n",
      "298911/298911 [==============================] - 20s 65us/step - loss: 0.5851 - acc: 0.7952 - val_loss: 0.6209 - val_acc: 0.7809\n",
      "Epoch 12/20\n",
      "298911/298911 [==============================] - 19s 64us/step - loss: 0.5774 - acc: 0.7979 - val_loss: 0.5800 - val_acc: 0.7964\n",
      "Epoch 13/20\n",
      "298911/298911 [==============================] - 20s 66us/step - loss: 0.5695 - acc: 0.8011 - val_loss: 0.5757 - val_acc: 0.7961\n",
      "Epoch 14/20\n",
      "298911/298911 [==============================] - 20s 66us/step - loss: 0.5622 - acc: 0.8029 - val_loss: 0.5733 - val_acc: 0.7987\n",
      "Epoch 15/20\n",
      "298911/298911 [==============================] - 20s 66us/step - loss: 0.5532 - acc: 0.8068 - val_loss: 0.5586 - val_acc: 0.8033\n",
      "Epoch 16/20\n",
      "298911/298911 [==============================] - 20s 66us/step - loss: 0.5461 - acc: 0.8088 - val_loss: 0.5783 - val_acc: 0.7970\n",
      "Epoch 17/20\n",
      "298911/298911 [==============================] - 19s 65us/step - loss: 0.5394 - acc: 0.8108 - val_loss: 0.5506 - val_acc: 0.8053\n",
      "Epoch 18/20\n",
      "298911/298911 [==============================] - 19s 65us/step - loss: 0.5336 - acc: 0.8131 - val_loss: 0.5410 - val_acc: 0.8077\n",
      "Epoch 19/20\n",
      "298911/298911 [==============================] - 19s 64us/step - loss: 0.5276 - acc: 0.8157 - val_loss: 0.5403 - val_acc: 0.8111\n",
      "Epoch 20/20\n",
      "298911/298911 [==============================] - 19s 63us/step - loss: 0.5213 - acc: 0.8180 - val_loss: 0.5172 - val_acc: 0.8183\n"
     ]
    }
   ],
   "source": [
    "history = model.fit([x_train], batch_size=200, y=y_train, verbose=1, validation_data=(x_valid, y_valid), \n",
    "          shuffle=True, epochs=20)"
   ]
  },
  {
   "cell_type": "code",
   "execution_count": 57,
   "metadata": {},
   "outputs": [
    {
     "name": "stdout",
     "output_type": "stream",
     "text": [
      "0.3357433535086451\n"
     ]
    }
   ],
   "source": [
    "predicted = model.predict(x_test)\n",
    "predicted = np.argmax(predicted, axis=1)\n",
    "y_test_decode = np.argmax(y_test, axis=1)\n",
    "print(accuracy_score(y_test_decode, predicted))"
   ]
  },
  {
   "cell_type": "code",
   "execution_count": 58,
   "metadata": {},
   "outputs": [
    {
     "name": "stdout",
     "output_type": "stream",
     "text": [
      "Train: 0.818, Valid: 0.818, Test: 0.336\n"
     ]
    },
    {
     "data": {
      "image/png": "[encoded data removed]",
      "text/plain": [
       "<Figure size 432x288 with 1 Axes>"
      ]
     },
     "metadata": {
      "needs_background": "light"
     },
     "output_type": "display_data"
    }
   ],
   "source": [
    "# evaluate the model\n",
    "_, acc_train = model.evaluate(x_train, y_train, verbose=0)\n",
    "_, acc_valid = model.evaluate(x_valid, y_valid, verbose=0)\n",
    "_, acc_test = model.evaluate(x_test, y_test, verbose=0)\n",
    "print('Train: %.3f, Valid: %.3f, Test: %.3f' % (acc_train, acc_valid, acc_test))\n",
    "# learning curves of model accuracy\n",
    "plt.plot(history.history['acc'], label='train')\n",
    "plt.plot(history.history['val_acc'], label='valid')\n",
    "plt.legend()\n",
    "plt.xlabel('epoch')\n",
    "plt.ylabel('accuracy')\n",
    "plt.show()"
   ]
  },
  {
   "cell_type": "code",
   "execution_count": 59,
   "metadata": {},
   "outputs": [
    {
     "name": "stdout",
     "output_type": "stream",
     "text": [
      "Saved nn/2layers_val_20epoch_3.nn\n"
     ]
    }
   ],
   "source": [
    "# save model\n",
    "import os\n",
    "dir_name = 'nn'\n",
    "if not os.path.exists(dir_name):\n",
    "    os.makedirs(dir_name)\n",
    "filename = dir_name + '/2layers_val_20epoch_3.nn'\n",
    "model.save(filename)\n",
    "print('Saved %s' % filename)"
   ]
  },
  {
   "cell_type": "code",
   "execution_count": null,
   "metadata": {},
   "outputs": [],
   "source": []
  },
  {
   "cell_type": "code",
   "execution_count": null,
   "metadata": {},
   "outputs": [],
   "source": []
  }
 ],
 "metadata": {
  "kernelspec": {
   "display_name": "Python 3",
   "language": "python",
   "name": "python3"
  },
  "language_info": {
   "codemirror_mode": {
    "name": "ipython",
    "version": 3
   },
   "file_extension": ".py",
   "mimetype": "text/x-python",
   "name": "python",
   "nbconvert_exporter": "python",
   "pygments_lexer": "ipython3",
   "version": "3.6.8"
  }
 },
 "nbformat": 4,
 "nbformat_minor": 2
}
