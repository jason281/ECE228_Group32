{
 "cells": [
  {
   "cell_type": "code",
   "execution_count": 1,
   "metadata": {},
   "outputs": [
    {
     "name": "stderr",
     "output_type": "stream",
     "text": [
      "/opt/conda/lib/python3.6/site-packages/h5py/__init__.py:36: FutureWarning: Conversion of the second argument of issubdtype from `float` to `np.floating` is deprecated. In future, it will be treated as `np.float64 == np.dtype(float).type`.\n",
      "  from ._conv import register_converters as _register_converters\n",
      "Using TensorFlow backend.\n"
     ]
    }
   ],
   "source": [
    "import pickle\n",
    "import matplotlib.pyplot as plt\n",
    "import numpy as np\n",
    "from keras.models import Sequential\n",
    "import keras.layers\n",
    "from keras.layers import Dense\n",
    "from keras.layers import Dropout\n",
    "from keras.layers import LSTM\n",
    "from keras.layers import BatchNormalization\n",
    "from keras.regularizers import L1L2\n",
    "from keras.callbacks import EarlyStopping\n",
    "from keras.wrappers.scikit_learn import KerasClassifier\n",
    "from keras.utils import np_utils\n",
    "from sklearn.preprocessing import MinMaxScaler\n",
    "from sklearn.model_selection import cross_val_score\n",
    "from sklearn.model_selection import KFold\n",
    "from sklearn.preprocessing import LabelEncoder\n",
    "from sklearn.pipeline import Pipeline\n",
    "from sklearn.metrics import accuracy_score\n",
    "import tensorflow as tf"
   ]
  },
  {
   "cell_type": "code",
   "execution_count": 2,
   "metadata": {},
   "outputs": [],
   "source": [
    "np.random.seed(0)\n",
    "train, valid, test = pickle.load(open('dataset.pickle', 'rb'))\n",
    "train = train.fillna(0)\n",
    "test = test.fillna(0)"
   ]
  },
  {
   "cell_type": "code",
   "execution_count": 13,
   "metadata": {},
   "outputs": [],
   "source": [
    "x_train = train[['raw_acc','proc_gyro','raw_magnet','watch_acceleration','watch_heading', 'location', 'location_quick_features', 'audio_naive', 'audio_properties', 'discrete', 'lf_measurements']]\n",
    "y_train = train.iloc[:,-8:]\n",
    "x_test = test[['raw_acc','proc_gyro','raw_magnet','watch_acceleration','watch_heading', 'location', 'location_quick_features', 'audio_naive', 'audio_properties', 'discrete', 'lf_measurements']]\n",
    "y_test = np.asarray(test.iloc[:,-8:])"
   ]
  },
  {
   "cell_type": "code",
   "execution_count": 14,
   "metadata": {},
   "outputs": [],
   "source": [
    "scaler = MinMaxScaler() #scale features between 0 and 1\n",
    "x_train = scaler.fit_transform(x_train)\n",
    "#x_train = np.asarray(x_train).reshape(x_train.shape[0], 1, x_train.shape[1])\n",
    "x_test = scaler.fit_transform(x_test)\n",
    "#x_test = np.asarray(x_test).reshape(x_test.shape[0], 1, x_test.shape[1])"
   ]
  },
  {
   "cell_type": "code",
   "execution_count": 25,
   "metadata": {},
   "outputs": [],
   "source": [
    "model = Sequential()\n",
    "#model.add(LSTM(500, input_shape=(x_train.shape[1], x_train.shape[2]), bias_regularizer=L1L2(l1=0.01, l2=0.01)))\n",
    "#model.add(LSTM(500, input_shape=(x_train.shape[1], x_train.shape[2])))\n",
    "model.add(Dense(2000, input_dim=x_train.shape[1], activation='relu'))\n",
    "model.add(Dropout(0.2, noise_shape=None, seed=None))\n",
    "model.add(BatchNormalization())\n",
    "model.add(Dense(100, activation='relu'))\n",
    "model.add(BatchNormalization())\n",
    "model.add(Dense(y_train.shape[1], activation='softmax'))\n",
    "model.compile(loss='categorical_crossentropy', optimizer='adam', metrics=['accuracy'])"
   ]
  },
  {
   "cell_type": "code",
   "execution_count": 26,
   "metadata": {},
   "outputs": [
    {
     "name": "stdout",
     "output_type": "stream",
     "text": [
      "Train on 223329 samples, validate on 74444 samples\n",
      "Epoch 1/20\n",
      "223329/223329 [==============================] - 24s 106us/step - loss: 1.0250 - acc: 0.6236 - val_loss: 1.3593 - val_acc: 0.5220\n",
      "Epoch 2/20\n",
      "223329/223329 [==============================] - 23s 101us/step - loss: 0.9276 - acc: 0.6556 - val_loss: 1.2431 - val_acc: 0.5488\n",
      "Epoch 3/20\n",
      "223329/223329 [==============================] - 23s 101us/step - loss: 0.8804 - acc: 0.6737 - val_loss: 1.3414 - val_acc: 0.5398\n",
      "Epoch 4/20\n",
      "223329/223329 [==============================] - 24s 106us/step - loss: 0.8537 - acc: 0.6844 - val_loss: 1.2802 - val_acc: 0.5571\n",
      "Epoch 5/20\n",
      "223329/223329 [==============================] - 23s 104us/step - loss: 0.8375 - acc: 0.6908 - val_loss: 1.2905 - val_acc: 0.5501\n",
      "Epoch 6/20\n",
      "223329/223329 [==============================] - 23s 103us/step - loss: 0.8145 - acc: 0.7003 - val_loss: 1.3061 - val_acc: 0.5485\n",
      "Epoch 7/20\n",
      "223329/223329 [==============================] - 22s 98us/step - loss: 0.7986 - acc: 0.7073 - val_loss: 1.3465 - val_acc: 0.5476\n",
      "Epoch 8/20\n",
      "223329/223329 [==============================] - 21s 96us/step - loss: 0.7849 - acc: 0.7113 - val_loss: 1.2831 - val_acc: 0.5512\n",
      "Epoch 9/20\n",
      "223329/223329 [==============================] - 22s 100us/step - loss: 0.7777 - acc: 0.7153 - val_loss: 1.2961 - val_acc: 0.5592\n",
      "Epoch 10/20\n",
      "223329/223329 [==============================] - 21s 96us/step - loss: 0.7684 - acc: 0.7186 - val_loss: 1.3687 - val_acc: 0.5435\n",
      "Epoch 11/20\n",
      "223329/223329 [==============================] - 21s 94us/step - loss: 0.7601 - acc: 0.7220 - val_loss: 1.3004 - val_acc: 0.5572\n",
      "Epoch 12/20\n",
      "223329/223329 [==============================] - 22s 98us/step - loss: 0.7577 - acc: 0.7228 - val_loss: 1.3384 - val_acc: 0.5533\n",
      "Epoch 13/20\n",
      "223329/223329 [==============================] - 21s 96us/step - loss: 0.7500 - acc: 0.7257 - val_loss: 1.3506 - val_acc: 0.5422\n",
      "Epoch 14/20\n",
      "223329/223329 [==============================] - 21s 94us/step - loss: 0.7446 - acc: 0.7280 - val_loss: 1.3522 - val_acc: 0.5543\n",
      "Epoch 15/20\n",
      "223329/223329 [==============================] - 21s 96us/step - loss: 0.7423 - acc: 0.7297 - val_loss: 1.3286 - val_acc: 0.5433\n",
      "Epoch 16/20\n",
      "223329/223329 [==============================] - 22s 101us/step - loss: 0.7385 - acc: 0.7302 - val_loss: 1.3305 - val_acc: 0.5532\n",
      "Epoch 17/20\n",
      "223329/223329 [==============================] - 24s 105us/step - loss: 0.7337 - acc: 0.7321 - val_loss: 1.3684 - val_acc: 0.5589\n",
      "Epoch 18/20\n",
      "223329/223329 [==============================] - 23s 104us/step - loss: 0.7299 - acc: 0.7345 - val_loss: 1.3858 - val_acc: 0.5312\n",
      "Epoch 19/20\n",
      "223329/223329 [==============================] - 24s 107us/step - loss: 0.7245 - acc: 0.7361 - val_loss: 1.3755 - val_acc: 0.5495\n",
      "Epoch 20/20\n",
      "223329/223329 [==============================] - 23s 103us/step - loss: 0.7229 - acc: 0.7354 - val_loss: 1.3536 - val_acc: 0.5563\n"
     ]
    }
   ],
   "source": [
    "history = model.fit([x_train], batch_size=100, y=y_train, verbose=1, validation_split=0.25, \n",
    "          shuffle=True, epochs=20)"
   ]
  },
  {
   "cell_type": "code",
   "execution_count": 27,
   "metadata": {},
   "outputs": [
    {
     "name": "stdout",
     "output_type": "stream",
     "text": [
      "0.49584664536741213\n"
     ]
    }
   ],
   "source": [
    "predicted = model.predict(x_test)\n",
    "predicted = np.argmax(predicted, axis=1)\n",
    "y_test_decode = np.argmax(y_test, axis=1)\n",
    "print(accuracy_score(y_test_decode, predicted))"
   ]
  },
  {
   "cell_type": "code",
   "execution_count": 28,
   "metadata": {},
   "outputs": [
    {
     "name": "stdout",
     "output_type": "stream",
     "text": [
      "Train: 0.716, Test: 0.496\n"
     ]
    },
    {
     "data": {
      "image/png": "[encoded data removed]",
      "text/plain": [
       "<Figure size 432x288 with 1 Axes>"
      ]
     },
     "metadata": {
      "needs_background": "light"
     },
     "output_type": "display_data"
    }
   ],
   "source": [
    "# evaluate the model\n",
    "_, acc_train = model.evaluate(x_train, y_train, verbose=0)\n",
    "_, acc_test = model.evaluate(x_test, y_test, verbose=0)\n",
    "print('Train: %.3f, Test: %.3f' % (acc_train, acc_test))\n",
    "# learning curves of model accuracy\n",
    "plt.plot(history.history['acc'], label='train')\n",
    "plt.plot(history.history['val_acc'], label='test')\n",
    "plt.legend()\n",
    "plt.show()"
   ]
  },
  {
   "cell_type": "code",
   "execution_count": 29,
   "metadata": {},
   "outputs": [
    {
     "name": "stdout",
     "output_type": "stream",
     "text": [
      "Saved nn/2layers_crossval_20epoch.nn\n"
     ]
    }
   ],
   "source": [
    "# save model\n",
    "import os\n",
    "dir_name = 'nn'\n",
    "if not os.path.exists(dir_name):\n",
    "    os.makedirs(dir_name)\n",
    "filename = dir_name + '/2layers_crossval_20epoch.nn'\n",
    "model.save(filename)\n",
    "print('Saved %s' % filename)"
   ]
  },
  {
   "cell_type": "code",
   "execution_count": null,
   "metadata": {},
   "outputs": [],
   "source": []
  }
 ],
 "metadata": {
  "kernelspec": {
   "display_name": "Python 3",
   "language": "python",
   "name": "python3"
  },
  "language_info": {
   "codemirror_mode": {
    "name": "ipython",
    "version": 3
   },
   "file_extension": ".py",
   "mimetype": "text/x-python",
   "name": "python",
   "nbconvert_exporter": "python",
   "pygments_lexer": "ipython3",
   "version": "3.6.8"
  }
 },
 "nbformat": 4,
 "nbformat_minor": 2
}
