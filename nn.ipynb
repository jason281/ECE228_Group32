{
 "cells": [
  {
   "cell_type": "code",
   "execution_count": null,
   "metadata": {},
   "outputs": [],
   "source": [
    "import pickle\n",
    "import matplotlib.pyplot as plt\n",
    "import numpy as np\n",
    "from keras.models import Sequential\n",
    "import keras.layers\n",
    "from keras.layers import Dense\n",
    "from keras.layers import Dropout\n",
    "from keras.layers import LSTM\n",
    "from keras.layers import BatchNormalization\n",
    "from keras.regularizers import L1L2\n",
    "from keras.callbacks import EarlyStopping\n",
    "from keras.wrappers.scikit_learn import KerasClassifier\n",
    "from keras.utils import np_utils\n",
    "from sklearn.preprocessing import MinMaxScaler\n",
    "from sklearn.model_selection import cross_val_score\n",
    "from sklearn.model_selection import KFold\n",
    "from sklearn.preprocessing import LabelEncoder\n",
    "from sklearn.pipeline import Pipeline\n",
    "from sklearn.metrics import accuracy_score\n",
    "import tensorflow as tf"
   ]
  },
  {
   "cell_type": "code",
   "execution_count": null,
   "metadata": {},
   "outputs": [],
   "source": [
    "np.random.seed(0)\n",
    "train, valid, test = pickle.load(open('dataset.pickle', 'rb'))\n",
    "train = train.fillna(0)\n",
    "valid = valid.fillna(0)\n",
    "test = test.fillna(0)"
   ]
  },
  {
   "cell_type": "code",
   "execution_count": 3,
   "metadata": {},
   "outputs": [],
   "source": [
    "x_train = train[['raw_acc','proc_gyro','raw_magnet','watch_acceleration','watch_heading', 'location', 'location_quick_features', 'audio_naive', 'audio_properties', 'discrete', 'lf_measurements']]\n",
    "y_train = train.iloc[:,-8:]\n",
    "x_valid = valid[['raw_acc','proc_gyro','raw_magnet','watch_acceleration','watch_heading', 'location', 'location_quick_features', 'audio_naive', 'audio_properties', 'discrete', 'lf_measurements']]\n",
    "y_valid = np.asarray(valid.iloc[:,-8:])\n",
    "x_test = test[['raw_acc','proc_gyro','raw_magnet','watch_acceleration','watch_heading', 'location', 'location_quick_features', 'audio_naive', 'audio_properties', 'discrete', 'lf_measurements']]\n",
    "y_test = np.asarray(test.iloc[:,-8:])"
   ]
  },
  {
   "cell_type": "code",
   "execution_count": 4,
   "metadata": {},
   "outputs": [],
   "source": [
    "scaler = MinMaxScaler() #scale features between 0 and 1\n",
    "x_train = scaler.fit_transform(x_train)\n",
    "#x_train = np.asarray(x_train).reshape(x_train.shape[0], 1, x_train.shape[1])\n",
    "x_valid = scaler.transform(x_valid)\n",
    "x_test = scaler.transform(x_test)\n",
    "#x_test = np.asarray(x_test).reshape(x_test.shape[0], 1, x_test.shape[1])"
   ]
  },
  {
   "cell_type": "code",
   "execution_count": 5,
   "metadata": {},
   "outputs": [],
   "source": [
    "model = Sequential()\n",
    "#model.add(LSTM(500, input_shape=(x_train.shape[1], x_train.shape[2]), bias_regularizer=L1L2(l1=0.01, l2=0.01)))\n",
    "#model.add(LSTM(500, input_shape=(x_train.shape[1], x_train.shape[2])))\n",
    "model.add(Dense(2000, input_dim=x_train.shape[1], activation='relu'))\n",
    "model.add(Dropout(0.2, noise_shape=None, seed=None))\n",
    "model.add(BatchNormalization())\n",
    "model.add(Dense(100, activation='relu'))\n",
    "model.add(BatchNormalization())\n",
    "model.add(Dense(y_train.shape[1], activation='softmax'))\n",
    "model.compile(loss='categorical_crossentropy', optimizer='adam', metrics=['accuracy'])"
   ]
  },
  {
   "cell_type": "code",
   "execution_count": 6,
   "metadata": {},
   "outputs": [
    {
     "name": "stdout",
     "output_type": "stream",
     "text": [
      "Train on 298911 samples, validate on 30026 samples\n",
      "Epoch 1/20\n",
      "298911/298911 [==============================] - 39s 131us/step - loss: 1.0679 - acc: 0.6240 - val_loss: 1.0206 - val_acc: 0.6430\n",
      "Epoch 2/20\n",
      "298911/298911 [==============================] - 37s 123us/step - loss: 0.9830 - acc: 0.6498 - val_loss: 1.5464 - val_acc: 0.5188\n",
      "Epoch 3/20\n",
      "298911/298911 [==============================] - 36s 122us/step - loss: 0.9396 - acc: 0.6643 - val_loss: 1.0005 - val_acc: 0.6314\n",
      "Epoch 4/20\n",
      "298911/298911 [==============================] - 36s 121us/step - loss: 0.9174 - acc: 0.6730 - val_loss: 1.0429 - val_acc: 0.6298\n",
      "Epoch 5/20\n",
      "298911/298911 [==============================] - 36s 121us/step - loss: 0.9026 - acc: 0.6780 - val_loss: 1.0129 - val_acc: 0.6512\n",
      "Epoch 6/20\n",
      "298911/298911 [==============================] - 36s 120us/step - loss: 0.8830 - acc: 0.6848 - val_loss: 1.0451 - val_acc: 0.6360\n",
      "Epoch 7/20\n",
      "298911/298911 [==============================] - 36s 121us/step - loss: 0.8699 - acc: 0.6895 - val_loss: 1.0338 - val_acc: 0.6544\n",
      "Epoch 8/20\n",
      "298911/298911 [==============================] - 36s 121us/step - loss: 0.8592 - acc: 0.6926 - val_loss: 1.0279 - val_acc: 0.6371\n",
      "Epoch 9/20\n",
      "298911/298911 [==============================] - 36s 120us/step - loss: 0.8519 - acc: 0.6968 - val_loss: 1.0728 - val_acc: 0.6365\n",
      "Epoch 10/20\n",
      "298911/298911 [==============================] - 36s 121us/step - loss: 0.8480 - acc: 0.6976 - val_loss: 1.0341 - val_acc: 0.6492\n",
      "Epoch 11/20\n",
      "298911/298911 [==============================] - 36s 121us/step - loss: 0.8400 - acc: 0.7011 - val_loss: 1.1121 - val_acc: 0.6284\n",
      "Epoch 12/20\n",
      "298911/298911 [==============================] - 36s 121us/step - loss: 0.8338 - acc: 0.7022 - val_loss: 1.0483 - val_acc: 0.6439\n",
      "Epoch 13/20\n",
      "298911/298911 [==============================] - 36s 121us/step - loss: 0.8326 - acc: 0.7037 - val_loss: 1.0647 - val_acc: 0.6346\n",
      "Epoch 14/20\n",
      "298911/298911 [==============================] - 36s 120us/step - loss: 0.8294 - acc: 0.7046 - val_loss: 1.0950 - val_acc: 0.6364\n",
      "Epoch 15/20\n",
      "298911/298911 [==============================] - 36s 120us/step - loss: 0.8234 - acc: 0.7069 - val_loss: 1.0498 - val_acc: 0.6355\n",
      "Epoch 16/20\n",
      "298911/298911 [==============================] - 36s 120us/step - loss: 0.8278 - acc: 0.7048 - val_loss: 1.0512 - val_acc: 0.6356\n",
      "Epoch 17/20\n",
      "298911/298911 [==============================] - 36s 120us/step - loss: 0.8258 - acc: 0.7060 - val_loss: 1.0615 - val_acc: 0.6392\n",
      "Epoch 18/20\n",
      "298911/298911 [==============================] - 36s 120us/step - loss: 0.8180 - acc: 0.7087 - val_loss: 1.0811 - val_acc: 0.6417\n",
      "Epoch 19/20\n",
      "298911/298911 [==============================] - 36s 120us/step - loss: 0.8152 - acc: 0.7095 - val_loss: 1.0053 - val_acc: 0.6522\n",
      "Epoch 20/20\n",
      "298911/298911 [==============================] - 36s 120us/step - loss: 0.8154 - acc: 0.7098 - val_loss: 1.0764 - val_acc: 0.6465\n"
     ]
    }
   ],
   "source": [
    "history = model.fit([x_train], batch_size=100, y=y_train, verbose=1, validation_data=(x_valid, y_valid), \n",
    "          shuffle=True, epochs=20)"
   ]
  },
  {
   "cell_type": "code",
   "execution_count": 7,
   "metadata": {},
   "outputs": [
    {
     "name": "stdout",
     "output_type": "stream",
     "text": [
      "0.45047408539734346\n"
     ]
    }
   ],
   "source": [
    "predicted = model.predict(x_test)\n",
    "predicted = np.argmax(predicted, axis=1)\n",
    "y_test_decode = np.argmax(y_test, axis=1)\n",
    "print(accuracy_score(y_test_decode, predicted))"
   ]
  },
  {
   "cell_type": "code",
   "execution_count": 8,
   "metadata": {},
   "outputs": [
    {
     "name": "stdout",
     "output_type": "stream",
     "text": [
      "Train: 0.742, Valid: 0.647, Test: 0.450\n"
     ]
    },
    {
     "data": {
      "image/png": "[encoded data removed]",
      "text/plain": [
       "<Figure size 432x288 with 1 Axes>"
      ]
     },
     "metadata": {
      "needs_background": "light"
     },
     "output_type": "display_data"
    }
   ],
   "source": [
    "# evaluate the model\n",
    "_, acc_train = model.evaluate(x_train, y_train, verbose=0)\n",
    "_, acc_valid = model.evaluate(x_valid, y_valid, verbose=0)\n",
    "_, acc_test = model.evaluate(x_test, y_test, verbose=0)\n",
    "print('Train: %.3f, Valid: %.3f, Test: %.3f' % (acc_train, acc_valid, acc_test))\n",
    "# learning curves of model accuracy\n",
    "plt.plot(history.history['acc'], label='train')\n",
    "plt.plot(history.history['val_acc'], label='valid')\n",
    "plt.legend()\n",
    "plt.xlabel('epoch')\n",
    "plt.ylabel('accuracy')\n",
    "plt.show()"
   ]
  },
  {
   "cell_type": "code",
   "execution_count": 9,
   "metadata": {},
   "outputs": [
    {
     "name": "stdout",
     "output_type": "stream",
     "text": [
      "Saved nn/2layers_val_20epoch_final.nn\n"
     ]
    }
   ],
   "source": [
    "# save model\n",
    "import os\n",
    "dir_name = 'nn'\n",
    "if not os.path.exists(dir_name):\n",
    "    os.makedirs(dir_name)\n",
    "filename = dir_name + '/2layers_val_20epoch_final.nn'\n",
    "model.save(filename)\n",
    "print('Saved %s' % filename)"
   ]
  },
  {
   "cell_type": "code",
   "execution_count": null,
   "metadata": {},
   "outputs": [],
   "source": []
  },
  {
   "cell_type": "code",
   "execution_count": null,
   "metadata": {},
   "outputs": [],
   "source": []
  }
 ],
 "metadata": {
  "kernelspec": {
   "display_name": "Python 3",
   "language": "python",
   "name": "python3"
  },
  "language_info": {
   "codemirror_mode": {
    "name": "ipython",
    "version": 3
   },
   "file_extension": ".py",
   "mimetype": "text/x-python",
   "name": "python",
   "nbconvert_exporter": "python",
   "pygments_lexer": "ipython3",
   "version": "3.6.8"
  }
 },
 "nbformat": 4,
 "nbformat_minor": 2
}
