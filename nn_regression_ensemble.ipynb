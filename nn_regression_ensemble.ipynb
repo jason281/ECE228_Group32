{
 "cells": [
  {
   "cell_type": "code",
   "execution_count": 1,
   "metadata": {},
   "outputs": [
    {
     "name": "stderr",
     "output_type": "stream",
     "text": [
      "/opt/conda/lib/python3.6/site-packages/h5py/__init__.py:36: FutureWarning: Conversion of the second argument of issubdtype from `float` to `np.floating` is deprecated. In future, it will be treated as `np.float64 == np.dtype(float).type`.\n",
      "  from ._conv import register_converters as _register_converters\n",
      "Using TensorFlow backend.\n"
     ]
    }
   ],
   "source": [
    "import pickle\n",
    "import numpy as np\n",
    "from sklearn.datasets.samples_generator import make_blobs\n",
    "from sklearn.metrics import accuracy_score\n",
    "from sklearn.linear_model import LogisticRegression\n",
    "from sklearn.preprocessing import MinMaxScaler\n",
    "from keras.models import load_model\n",
    "from keras.utils import to_categorical\n",
    "from numpy import dstack"
   ]
  },
  {
   "cell_type": "code",
   "execution_count": 2,
   "metadata": {},
   "outputs": [],
   "source": [
    "# load models from file\n",
    "def load_all_models(n_models, model_dir):\n",
    "    all_models = list()\n",
    "    for i in range(n_models):\n",
    "        # define filename for this ensemble\n",
    "        filename = model_dir + '/model_' + str(i + 1) + '.nn'\n",
    "        # load model from file\n",
    "        model = load_model(filename)\n",
    "        # add to list of members\n",
    "        all_models.append(model)\n",
    "        print('loaded %s' % filename)\n",
    "    return all_models"
   ]
  },
  {
   "cell_type": "code",
   "execution_count": 3,
   "metadata": {},
   "outputs": [],
   "source": [
    "scaler = MinMaxScaler()\n",
    "def get_x_data(fields):\n",
    "    x_train = train[fields]\n",
    "    x_train = scaler.fit_transform(x_train)\n",
    "    x_valid = valid[fields]\n",
    "    x_valid = scaler.fit_transform(x_valid)\n",
    "    x_test = test[fields]\n",
    "    x_test = scaler.fit_transform(x_test)\n",
    "    return (x_train, x_valid, x_test)"
   ]
  },
  {
   "cell_type": "code",
   "execution_count": 4,
   "metadata": {},
   "outputs": [],
   "source": [
    "# create stacked model input dataset as outputs from the ensemble\n",
    "# n: 0=train 1=valid 2=test\n",
    "def stacked_dataset(members, n):\n",
    "    stackX = None\n",
    "    for i in range(n_members):\n",
    "        x_data = get_x_data(target_fields[i])\n",
    "        inputX = x_data[n]\n",
    "        # make prediction\n",
    "        yhat = members[i].predict(inputX, verbose=1)\n",
    "        # stack predictions into [rows, members, probabilities]\n",
    "        if stackX is None:\n",
    "            stackX = yhat\n",
    "        else:\n",
    "            stackX = dstack((stackX, yhat))\n",
    "    # flatten predictions to [rows, members x probabilities]\n",
    "    stackX = stackX.reshape((stackX.shape[0], stackX.shape[1]*stackX.shape[2]))\n",
    "    stackX[np.isnan(stackX)] = 0\n",
    "    return stackX"
   ]
  },
  {
   "cell_type": "code",
   "execution_count": 5,
   "metadata": {},
   "outputs": [],
   "source": [
    "# fit a model based on the outputs from the ensemble members\n",
    "def fit_stacked_model(members, inputy):\n",
    "    # create dataset using ensemble\n",
    "    stackedX = stacked_dataset(members, 0)\n",
    "    # fit standalone model\n",
    "    model = LogisticRegression()\n",
    "    model.fit(stackedX, inputy)\n",
    "    return model"
   ]
  },
  {
   "cell_type": "code",
   "execution_count": 13,
   "metadata": {},
   "outputs": [],
   "source": [
    "# make a prediction with the stacked model\n",
    "def stacked_prediction(members, model, n):\n",
    "    # create dataset using ensemble\n",
    "    stackedX = stacked_dataset(members, n)\n",
    "    # make a prediction\n",
    "    yhat = model.predict(stackedX)\n",
    "    return yhat"
   ]
  },
  {
   "cell_type": "code",
   "execution_count": 7,
   "metadata": {},
   "outputs": [
    {
     "name": "stdout",
     "output_type": "stream",
     "text": [
      "loaded nn_ensemble2/model_1.nn\n",
      "loaded nn_ensemble2/model_2.nn\n",
      "loaded nn_ensemble2/model_3.nn\n",
      "loaded nn_ensemble2/model_4.nn\n",
      "loaded nn_ensemble2/model_5.nn\n",
      "loaded nn_ensemble2/model_6.nn\n",
      "loaded nn_ensemble2/model_7.nn\n",
      "loaded nn_ensemble2/model_8.nn\n",
      "loaded nn_ensemble2/model_9.nn\n",
      "loaded nn_ensemble2/model_10.nn\n",
      "loaded nn_ensemble2/model_11.nn\n",
      "Loaded 11 models\n"
     ]
    }
   ],
   "source": [
    "# load all models\n",
    "n_members = 11\n",
    "members = load_all_models(n_members, 'nn_ensemble2')\n",
    "print('Loaded %d models' % len(members))"
   ]
  },
  {
   "cell_type": "code",
   "execution_count": 8,
   "metadata": {},
   "outputs": [],
   "source": [
    "train, valid, test = pickle.load(open('dataset.pickle', 'rb'))\n",
    "train = train.fillna(0)\n",
    "valid = valid.fillna(0)\n",
    "test = test.fillna(0)\n",
    "\n",
    "y_train = np.asarray(train.iloc[:,-8:])\n",
    "y_valid = valid.iloc[:,-8:]\n",
    "y_test = np.asarray(test.iloc[:,-8:])\n"
   ]
  },
  {
   "cell_type": "code",
   "execution_count": 9,
   "metadata": {},
   "outputs": [
    {
     "name": "stdout",
     "output_type": "stream",
     "text": [
      "Model Accuracy: 0.326\n",
      "Model Accuracy: 0.343\n"
     ]
    },
    {
     "name": "stderr",
     "output_type": "stream",
     "text": [
      "/opt/conda/lib/python3.6/site-packages/sklearn/preprocessing/data.py:364: RuntimeWarning: All-NaN slice encountered\n",
      "  data_min = np.nanmin(X, axis=0)\n",
      "/opt/conda/lib/python3.6/site-packages/sklearn/preprocessing/data.py:365: RuntimeWarning: All-NaN slice encountered\n",
      "  data_max = np.nanmax(X, axis=0)\n",
      "/opt/conda/lib/python3.6/site-packages/sklearn/preprocessing/data.py:364: RuntimeWarning: All-NaN slice encountered\n",
      "  data_min = np.nanmin(X, axis=0)\n",
      "/opt/conda/lib/python3.6/site-packages/sklearn/preprocessing/data.py:365: RuntimeWarning: All-NaN slice encountered\n",
      "  data_max = np.nanmax(X, axis=0)\n",
      "/opt/conda/lib/python3.6/site-packages/sklearn/preprocessing/data.py:364: RuntimeWarning: All-NaN slice encountered\n",
      "  data_min = np.nanmin(X, axis=0)\n",
      "/opt/conda/lib/python3.6/site-packages/sklearn/preprocessing/data.py:365: RuntimeWarning: All-NaN slice encountered\n",
      "  data_max = np.nanmax(X, axis=0)\n"
     ]
    },
    {
     "name": "stdout",
     "output_type": "stream",
     "text": [
      "Model Accuracy: 0.261\n",
      "Model Accuracy: 0.379\n"
     ]
    },
    {
     "name": "stderr",
     "output_type": "stream",
     "text": [
      "/opt/conda/lib/python3.6/site-packages/sklearn/preprocessing/data.py:364: RuntimeWarning: All-NaN slice encountered\n",
      "  data_min = np.nanmin(X, axis=0)\n",
      "/opt/conda/lib/python3.6/site-packages/sklearn/preprocessing/data.py:365: RuntimeWarning: All-NaN slice encountered\n",
      "  data_max = np.nanmax(X, axis=0)\n",
      "/opt/conda/lib/python3.6/site-packages/sklearn/preprocessing/data.py:364: RuntimeWarning: All-NaN slice encountered\n",
      "  data_min = np.nanmin(X, axis=0)\n",
      "/opt/conda/lib/python3.6/site-packages/sklearn/preprocessing/data.py:365: RuntimeWarning: All-NaN slice encountered\n",
      "  data_max = np.nanmax(X, axis=0)\n",
      "/opt/conda/lib/python3.6/site-packages/sklearn/preprocessing/data.py:364: RuntimeWarning: All-NaN slice encountered\n",
      "  data_min = np.nanmin(X, axis=0)\n",
      "/opt/conda/lib/python3.6/site-packages/sklearn/preprocessing/data.py:365: RuntimeWarning: All-NaN slice encountered\n",
      "  data_max = np.nanmax(X, axis=0)\n"
     ]
    },
    {
     "name": "stdout",
     "output_type": "stream",
     "text": [
      "Model Accuracy: 0.261\n"
     ]
    },
    {
     "name": "stderr",
     "output_type": "stream",
     "text": [
      "/opt/conda/lib/python3.6/site-packages/sklearn/preprocessing/data.py:364: RuntimeWarning: All-NaN slice encountered\n",
      "  data_min = np.nanmin(X, axis=0)\n",
      "/opt/conda/lib/python3.6/site-packages/sklearn/preprocessing/data.py:365: RuntimeWarning: All-NaN slice encountered\n",
      "  data_max = np.nanmax(X, axis=0)\n",
      "/opt/conda/lib/python3.6/site-packages/sklearn/preprocessing/data.py:364: RuntimeWarning: All-NaN slice encountered\n",
      "  data_min = np.nanmin(X, axis=0)\n",
      "/opt/conda/lib/python3.6/site-packages/sklearn/preprocessing/data.py:365: RuntimeWarning: All-NaN slice encountered\n",
      "  data_max = np.nanmax(X, axis=0)\n",
      "/opt/conda/lib/python3.6/site-packages/sklearn/preprocessing/data.py:364: RuntimeWarning: All-NaN slice encountered\n",
      "  data_min = np.nanmin(X, axis=0)\n",
      "/opt/conda/lib/python3.6/site-packages/sklearn/preprocessing/data.py:365: RuntimeWarning: All-NaN slice encountered\n",
      "  data_max = np.nanmax(X, axis=0)\n"
     ]
    },
    {
     "name": "stdout",
     "output_type": "stream",
     "text": [
      "Model Accuracy: 0.261\n"
     ]
    },
    {
     "name": "stderr",
     "output_type": "stream",
     "text": [
      "/opt/conda/lib/python3.6/site-packages/sklearn/preprocessing/data.py:364: RuntimeWarning: All-NaN slice encountered\n",
      "  data_min = np.nanmin(X, axis=0)\n",
      "/opt/conda/lib/python3.6/site-packages/sklearn/preprocessing/data.py:365: RuntimeWarning: All-NaN slice encountered\n",
      "  data_max = np.nanmax(X, axis=0)\n",
      "/opt/conda/lib/python3.6/site-packages/sklearn/preprocessing/data.py:364: RuntimeWarning: All-NaN slice encountered\n",
      "  data_min = np.nanmin(X, axis=0)\n",
      "/opt/conda/lib/python3.6/site-packages/sklearn/preprocessing/data.py:365: RuntimeWarning: All-NaN slice encountered\n",
      "  data_max = np.nanmax(X, axis=0)\n",
      "/opt/conda/lib/python3.6/site-packages/sklearn/preprocessing/data.py:364: RuntimeWarning: All-NaN slice encountered\n",
      "  data_min = np.nanmin(X, axis=0)\n",
      "/opt/conda/lib/python3.6/site-packages/sklearn/preprocessing/data.py:365: RuntimeWarning: All-NaN slice encountered\n",
      "  data_max = np.nanmax(X, axis=0)\n"
     ]
    },
    {
     "name": "stdout",
     "output_type": "stream",
     "text": [
      "Model Accuracy: 0.261\n",
      "Model Accuracy: 0.525\n"
     ]
    },
    {
     "name": "stderr",
     "output_type": "stream",
     "text": [
      "/opt/conda/lib/python3.6/site-packages/sklearn/preprocessing/data.py:364: RuntimeWarning: All-NaN slice encountered\n",
      "  data_min = np.nanmin(X, axis=0)\n",
      "/opt/conda/lib/python3.6/site-packages/sklearn/preprocessing/data.py:365: RuntimeWarning: All-NaN slice encountered\n",
      "  data_max = np.nanmax(X, axis=0)\n",
      "/opt/conda/lib/python3.6/site-packages/sklearn/preprocessing/data.py:364: RuntimeWarning: All-NaN slice encountered\n",
      "  data_min = np.nanmin(X, axis=0)\n",
      "/opt/conda/lib/python3.6/site-packages/sklearn/preprocessing/data.py:365: RuntimeWarning: All-NaN slice encountered\n",
      "  data_max = np.nanmax(X, axis=0)\n",
      "/opt/conda/lib/python3.6/site-packages/sklearn/preprocessing/data.py:364: RuntimeWarning: All-NaN slice encountered\n",
      "  data_min = np.nanmin(X, axis=0)\n",
      "/opt/conda/lib/python3.6/site-packages/sklearn/preprocessing/data.py:365: RuntimeWarning: All-NaN slice encountered\n",
      "  data_max = np.nanmax(X, axis=0)\n"
     ]
    },
    {
     "name": "stdout",
     "output_type": "stream",
     "text": [
      "Model Accuracy: 0.261\n",
      "Model Accuracy: 0.551\n"
     ]
    },
    {
     "name": "stderr",
     "output_type": "stream",
     "text": [
      "/opt/conda/lib/python3.6/site-packages/sklearn/preprocessing/data.py:364: RuntimeWarning: All-NaN slice encountered\n",
      "  data_min = np.nanmin(X, axis=0)\n",
      "/opt/conda/lib/python3.6/site-packages/sklearn/preprocessing/data.py:365: RuntimeWarning: All-NaN slice encountered\n",
      "  data_max = np.nanmax(X, axis=0)\n",
      "/opt/conda/lib/python3.6/site-packages/sklearn/preprocessing/data.py:364: RuntimeWarning: All-NaN slice encountered\n",
      "  data_min = np.nanmin(X, axis=0)\n",
      "/opt/conda/lib/python3.6/site-packages/sklearn/preprocessing/data.py:365: RuntimeWarning: All-NaN slice encountered\n",
      "  data_max = np.nanmax(X, axis=0)\n",
      "/opt/conda/lib/python3.6/site-packages/sklearn/preprocessing/data.py:364: RuntimeWarning: All-NaN slice encountered\n",
      "  data_min = np.nanmin(X, axis=0)\n",
      "/opt/conda/lib/python3.6/site-packages/sklearn/preprocessing/data.py:365: RuntimeWarning: All-NaN slice encountered\n",
      "  data_max = np.nanmax(X, axis=0)\n"
     ]
    },
    {
     "name": "stdout",
     "output_type": "stream",
     "text": [
      "Model Accuracy: 0.261\n"
     ]
    }
   ],
   "source": [
    "# evaluate standalone models on test dataset\n",
    "target_fields = ['raw_acc','proc_gyro','raw_magnet','watch_acceleration','watch_heading', 'location', 'location_quick_features', 'audio_naive', 'audio_properties', 'discrete', 'lf_measurements']\n",
    "for i in range(n_members):\n",
    "    x_data = get_x_data(target_fields[i])\n",
    "    x_test = x_data[2]\n",
    "    _, acc = members[i].evaluate(x_test, y_test, verbose=0)\n",
    "    print('Model Accuracy: %.3f' % acc)\n"
   ]
  },
  {
   "cell_type": "code",
   "execution_count": 10,
   "metadata": {},
   "outputs": [
    {
     "name": "stdout",
     "output_type": "stream",
     "text": [
      "298911/298911 [==============================] - 17s 55us/step\n",
      "298911/298911 [==============================] - 17s 56us/step\n"
     ]
    },
    {
     "name": "stderr",
     "output_type": "stream",
     "text": [
      "/opt/conda/lib/python3.6/site-packages/sklearn/preprocessing/data.py:364: RuntimeWarning: All-NaN slice encountered\n",
      "  data_min = np.nanmin(X, axis=0)\n",
      "/opt/conda/lib/python3.6/site-packages/sklearn/preprocessing/data.py:365: RuntimeWarning: All-NaN slice encountered\n",
      "  data_max = np.nanmax(X, axis=0)\n",
      "/opt/conda/lib/python3.6/site-packages/sklearn/preprocessing/data.py:364: RuntimeWarning: All-NaN slice encountered\n",
      "  data_min = np.nanmin(X, axis=0)\n",
      "/opt/conda/lib/python3.6/site-packages/sklearn/preprocessing/data.py:365: RuntimeWarning: All-NaN slice encountered\n",
      "  data_max = np.nanmax(X, axis=0)\n",
      "/opt/conda/lib/python3.6/site-packages/sklearn/preprocessing/data.py:364: RuntimeWarning: All-NaN slice encountered\n",
      "  data_min = np.nanmin(X, axis=0)\n",
      "/opt/conda/lib/python3.6/site-packages/sklearn/preprocessing/data.py:365: RuntimeWarning: All-NaN slice encountered\n",
      "  data_max = np.nanmax(X, axis=0)\n"
     ]
    },
    {
     "name": "stdout",
     "output_type": "stream",
     "text": [
      "298911/298911 [==============================] - 18s 60us/step\n",
      "298911/298911 [==============================] - 17s 56us/step\n"
     ]
    },
    {
     "name": "stderr",
     "output_type": "stream",
     "text": [
      "/opt/conda/lib/python3.6/site-packages/sklearn/preprocessing/data.py:364: RuntimeWarning: All-NaN slice encountered\n",
      "  data_min = np.nanmin(X, axis=0)\n",
      "/opt/conda/lib/python3.6/site-packages/sklearn/preprocessing/data.py:365: RuntimeWarning: All-NaN slice encountered\n",
      "  data_max = np.nanmax(X, axis=0)\n",
      "/opt/conda/lib/python3.6/site-packages/sklearn/preprocessing/data.py:364: RuntimeWarning: All-NaN slice encountered\n",
      "  data_min = np.nanmin(X, axis=0)\n",
      "/opt/conda/lib/python3.6/site-packages/sklearn/preprocessing/data.py:365: RuntimeWarning: All-NaN slice encountered\n",
      "  data_max = np.nanmax(X, axis=0)\n",
      "/opt/conda/lib/python3.6/site-packages/sklearn/preprocessing/data.py:364: RuntimeWarning: All-NaN slice encountered\n",
      "  data_min = np.nanmin(X, axis=0)\n",
      "/opt/conda/lib/python3.6/site-packages/sklearn/preprocessing/data.py:365: RuntimeWarning: All-NaN slice encountered\n",
      "  data_max = np.nanmax(X, axis=0)\n"
     ]
    },
    {
     "name": "stdout",
     "output_type": "stream",
     "text": [
      "298911/298911 [==============================] - 16s 52us/step\n"
     ]
    },
    {
     "name": "stderr",
     "output_type": "stream",
     "text": [
      "/opt/conda/lib/python3.6/site-packages/sklearn/preprocessing/data.py:364: RuntimeWarning: All-NaN slice encountered\n",
      "  data_min = np.nanmin(X, axis=0)\n",
      "/opt/conda/lib/python3.6/site-packages/sklearn/preprocessing/data.py:365: RuntimeWarning: All-NaN slice encountered\n",
      "  data_max = np.nanmax(X, axis=0)\n",
      "/opt/conda/lib/python3.6/site-packages/sklearn/preprocessing/data.py:364: RuntimeWarning: All-NaN slice encountered\n",
      "  data_min = np.nanmin(X, axis=0)\n",
      "/opt/conda/lib/python3.6/site-packages/sklearn/preprocessing/data.py:365: RuntimeWarning: All-NaN slice encountered\n",
      "  data_max = np.nanmax(X, axis=0)\n",
      "/opt/conda/lib/python3.6/site-packages/sklearn/preprocessing/data.py:364: RuntimeWarning: All-NaN slice encountered\n",
      "  data_min = np.nanmin(X, axis=0)\n",
      "/opt/conda/lib/python3.6/site-packages/sklearn/preprocessing/data.py:365: RuntimeWarning: All-NaN slice encountered\n",
      "  data_max = np.nanmax(X, axis=0)\n"
     ]
    },
    {
     "name": "stdout",
     "output_type": "stream",
     "text": [
      "298911/298911 [==============================] - 16s 52us/step\n"
     ]
    },
    {
     "name": "stderr",
     "output_type": "stream",
     "text": [
      "/opt/conda/lib/python3.6/site-packages/sklearn/preprocessing/data.py:364: RuntimeWarning: All-NaN slice encountered\n",
      "  data_min = np.nanmin(X, axis=0)\n",
      "/opt/conda/lib/python3.6/site-packages/sklearn/preprocessing/data.py:365: RuntimeWarning: All-NaN slice encountered\n",
      "  data_max = np.nanmax(X, axis=0)\n",
      "/opt/conda/lib/python3.6/site-packages/sklearn/preprocessing/data.py:364: RuntimeWarning: All-NaN slice encountered\n",
      "  data_min = np.nanmin(X, axis=0)\n",
      "/opt/conda/lib/python3.6/site-packages/sklearn/preprocessing/data.py:365: RuntimeWarning: All-NaN slice encountered\n",
      "  data_max = np.nanmax(X, axis=0)\n",
      "/opt/conda/lib/python3.6/site-packages/sklearn/preprocessing/data.py:364: RuntimeWarning: All-NaN slice encountered\n",
      "  data_min = np.nanmin(X, axis=0)\n",
      "/opt/conda/lib/python3.6/site-packages/sklearn/preprocessing/data.py:365: RuntimeWarning: All-NaN slice encountered\n",
      "  data_max = np.nanmax(X, axis=0)\n"
     ]
    },
    {
     "name": "stdout",
     "output_type": "stream",
     "text": [
      "298911/298911 [==============================] - 15s 49us/step\n",
      "298911/298911 [==============================] - 15s 51us/step\n"
     ]
    },
    {
     "name": "stderr",
     "output_type": "stream",
     "text": [
      "/opt/conda/lib/python3.6/site-packages/sklearn/preprocessing/data.py:364: RuntimeWarning: All-NaN slice encountered\n",
      "  data_min = np.nanmin(X, axis=0)\n",
      "/opt/conda/lib/python3.6/site-packages/sklearn/preprocessing/data.py:365: RuntimeWarning: All-NaN slice encountered\n",
      "  data_max = np.nanmax(X, axis=0)\n",
      "/opt/conda/lib/python3.6/site-packages/sklearn/preprocessing/data.py:364: RuntimeWarning: All-NaN slice encountered\n",
      "  data_min = np.nanmin(X, axis=0)\n",
      "/opt/conda/lib/python3.6/site-packages/sklearn/preprocessing/data.py:365: RuntimeWarning: All-NaN slice encountered\n",
      "  data_max = np.nanmax(X, axis=0)\n",
      "/opt/conda/lib/python3.6/site-packages/sklearn/preprocessing/data.py:364: RuntimeWarning: All-NaN slice encountered\n",
      "  data_min = np.nanmin(X, axis=0)\n",
      "/opt/conda/lib/python3.6/site-packages/sklearn/preprocessing/data.py:365: RuntimeWarning: All-NaN slice encountered\n",
      "  data_max = np.nanmax(X, axis=0)\n"
     ]
    },
    {
     "name": "stdout",
     "output_type": "stream",
     "text": [
      "298911/298911 [==============================] - 15s 49us/step\n",
      "298911/298911 [==============================] - 15s 49us/step\n"
     ]
    },
    {
     "name": "stderr",
     "output_type": "stream",
     "text": [
      "/opt/conda/lib/python3.6/site-packages/sklearn/preprocessing/data.py:364: RuntimeWarning: All-NaN slice encountered\n",
      "  data_min = np.nanmin(X, axis=0)\n",
      "/opt/conda/lib/python3.6/site-packages/sklearn/preprocessing/data.py:365: RuntimeWarning: All-NaN slice encountered\n",
      "  data_max = np.nanmax(X, axis=0)\n",
      "/opt/conda/lib/python3.6/site-packages/sklearn/preprocessing/data.py:364: RuntimeWarning: All-NaN slice encountered\n",
      "  data_min = np.nanmin(X, axis=0)\n",
      "/opt/conda/lib/python3.6/site-packages/sklearn/preprocessing/data.py:365: RuntimeWarning: All-NaN slice encountered\n",
      "  data_max = np.nanmax(X, axis=0)\n",
      "/opt/conda/lib/python3.6/site-packages/sklearn/preprocessing/data.py:364: RuntimeWarning: All-NaN slice encountered\n",
      "  data_min = np.nanmin(X, axis=0)\n",
      "/opt/conda/lib/python3.6/site-packages/sklearn/preprocessing/data.py:365: RuntimeWarning: All-NaN slice encountered\n",
      "  data_max = np.nanmax(X, axis=0)\n"
     ]
    },
    {
     "name": "stdout",
     "output_type": "stream",
     "text": [
      "298911/298911 [==============================] - 15s 50us/step\n"
     ]
    },
    {
     "name": "stderr",
     "output_type": "stream",
     "text": [
      "/opt/conda/lib/python3.6/site-packages/sklearn/linear_model/logistic.py:433: FutureWarning: Default solver will be changed to 'lbfgs' in 0.22. Specify a solver to silence this warning.\n",
      "  FutureWarning)\n",
      "/opt/conda/lib/python3.6/site-packages/sklearn/linear_model/logistic.py:460: FutureWarning: Default multi_class will be changed to 'auto' in 0.22. Specify the multi_class option to silence this warning.\n",
      "  \"this warning.\", FutureWarning)\n"
     ]
    }
   ],
   "source": [
    "# fit stacked model using the ensemble\n",
    "y_train_decode = np.argmax(y_train, axis=1)\n",
    "model = fit_stacked_model(members, y_train_decode)"
   ]
  },
  {
   "cell_type": "code",
   "execution_count": 11,
   "metadata": {},
   "outputs": [
    {
     "name": "stdout",
     "output_type": "stream",
     "text": [
      "48409/48409 [==============================] - 2s 47us/step\n",
      "48409/48409 [==============================] - 2s 46us/step\n",
      " 1056/48409 [..............................] - ETA: 2s"
     ]
    },
    {
     "name": "stderr",
     "output_type": "stream",
     "text": [
      "/opt/conda/lib/python3.6/site-packages/sklearn/preprocessing/data.py:364: RuntimeWarning: All-NaN slice encountered\n",
      "  data_min = np.nanmin(X, axis=0)\n",
      "/opt/conda/lib/python3.6/site-packages/sklearn/preprocessing/data.py:365: RuntimeWarning: All-NaN slice encountered\n",
      "  data_max = np.nanmax(X, axis=0)\n",
      "/opt/conda/lib/python3.6/site-packages/sklearn/preprocessing/data.py:364: RuntimeWarning: All-NaN slice encountered\n",
      "  data_min = np.nanmin(X, axis=0)\n",
      "/opt/conda/lib/python3.6/site-packages/sklearn/preprocessing/data.py:365: RuntimeWarning: All-NaN slice encountered\n",
      "  data_max = np.nanmax(X, axis=0)\n",
      "/opt/conda/lib/python3.6/site-packages/sklearn/preprocessing/data.py:364: RuntimeWarning: All-NaN slice encountered\n",
      "  data_min = np.nanmin(X, axis=0)\n",
      "/opt/conda/lib/python3.6/site-packages/sklearn/preprocessing/data.py:365: RuntimeWarning: All-NaN slice encountered\n",
      "  data_max = np.nanmax(X, axis=0)\n"
     ]
    },
    {
     "name": "stdout",
     "output_type": "stream",
     "text": [
      "48409/48409 [==============================] - 2s 47us/step\n",
      "48409/48409 [==============================] - 2s 46us/step\n",
      " 3040/48409 [>.............................] - ETA: 2s"
     ]
    },
    {
     "name": "stderr",
     "output_type": "stream",
     "text": [
      "/opt/conda/lib/python3.6/site-packages/sklearn/preprocessing/data.py:364: RuntimeWarning: All-NaN slice encountered\n",
      "  data_min = np.nanmin(X, axis=0)\n",
      "/opt/conda/lib/python3.6/site-packages/sklearn/preprocessing/data.py:365: RuntimeWarning: All-NaN slice encountered\n",
      "  data_max = np.nanmax(X, axis=0)\n",
      "/opt/conda/lib/python3.6/site-packages/sklearn/preprocessing/data.py:364: RuntimeWarning: All-NaN slice encountered\n",
      "  data_min = np.nanmin(X, axis=0)\n",
      "/opt/conda/lib/python3.6/site-packages/sklearn/preprocessing/data.py:365: RuntimeWarning: All-NaN slice encountered\n",
      "  data_max = np.nanmax(X, axis=0)\n",
      "/opt/conda/lib/python3.6/site-packages/sklearn/preprocessing/data.py:364: RuntimeWarning: All-NaN slice encountered\n",
      "  data_min = np.nanmin(X, axis=0)\n",
      "/opt/conda/lib/python3.6/site-packages/sklearn/preprocessing/data.py:365: RuntimeWarning: All-NaN slice encountered\n",
      "  data_max = np.nanmax(X, axis=0)\n"
     ]
    },
    {
     "name": "stdout",
     "output_type": "stream",
     "text": [
      "48409/48409 [==============================] - 2s 45us/step\n",
      " 3136/48409 [>.............................] - ETA: 2s"
     ]
    },
    {
     "name": "stderr",
     "output_type": "stream",
     "text": [
      "/opt/conda/lib/python3.6/site-packages/sklearn/preprocessing/data.py:364: RuntimeWarning: All-NaN slice encountered\n",
      "  data_min = np.nanmin(X, axis=0)\n",
      "/opt/conda/lib/python3.6/site-packages/sklearn/preprocessing/data.py:365: RuntimeWarning: All-NaN slice encountered\n",
      "  data_max = np.nanmax(X, axis=0)\n",
      "/opt/conda/lib/python3.6/site-packages/sklearn/preprocessing/data.py:364: RuntimeWarning: All-NaN slice encountered\n",
      "  data_min = np.nanmin(X, axis=0)\n",
      "/opt/conda/lib/python3.6/site-packages/sklearn/preprocessing/data.py:365: RuntimeWarning: All-NaN slice encountered\n",
      "  data_max = np.nanmax(X, axis=0)\n",
      "/opt/conda/lib/python3.6/site-packages/sklearn/preprocessing/data.py:364: RuntimeWarning: All-NaN slice encountered\n",
      "  data_min = np.nanmin(X, axis=0)\n",
      "/opt/conda/lib/python3.6/site-packages/sklearn/preprocessing/data.py:365: RuntimeWarning: All-NaN slice encountered\n",
      "  data_max = np.nanmax(X, axis=0)\n"
     ]
    },
    {
     "name": "stdout",
     "output_type": "stream",
     "text": [
      "48409/48409 [==============================] - 2s 46us/step\n",
      " 3232/48409 [=>............................] - ETA: 2s"
     ]
    },
    {
     "name": "stderr",
     "output_type": "stream",
     "text": [
      "/opt/conda/lib/python3.6/site-packages/sklearn/preprocessing/data.py:364: RuntimeWarning: All-NaN slice encountered\n",
      "  data_min = np.nanmin(X, axis=0)\n",
      "/opt/conda/lib/python3.6/site-packages/sklearn/preprocessing/data.py:365: RuntimeWarning: All-NaN slice encountered\n",
      "  data_max = np.nanmax(X, axis=0)\n",
      "/opt/conda/lib/python3.6/site-packages/sklearn/preprocessing/data.py:364: RuntimeWarning: All-NaN slice encountered\n",
      "  data_min = np.nanmin(X, axis=0)\n",
      "/opt/conda/lib/python3.6/site-packages/sklearn/preprocessing/data.py:365: RuntimeWarning: All-NaN slice encountered\n",
      "  data_max = np.nanmax(X, axis=0)\n",
      "/opt/conda/lib/python3.6/site-packages/sklearn/preprocessing/data.py:364: RuntimeWarning: All-NaN slice encountered\n",
      "  data_min = np.nanmin(X, axis=0)\n",
      "/opt/conda/lib/python3.6/site-packages/sklearn/preprocessing/data.py:365: RuntimeWarning: All-NaN slice encountered\n",
      "  data_max = np.nanmax(X, axis=0)\n"
     ]
    },
    {
     "name": "stdout",
     "output_type": "stream",
     "text": [
      "48409/48409 [==============================] - 2s 45us/step\n",
      "48409/48409 [==============================] - 2s 48us/step\n",
      " 3296/48409 [=>............................] - ETA: 2s"
     ]
    },
    {
     "name": "stderr",
     "output_type": "stream",
     "text": [
      "/opt/conda/lib/python3.6/site-packages/sklearn/preprocessing/data.py:364: RuntimeWarning: All-NaN slice encountered\n",
      "  data_min = np.nanmin(X, axis=0)\n",
      "/opt/conda/lib/python3.6/site-packages/sklearn/preprocessing/data.py:365: RuntimeWarning: All-NaN slice encountered\n",
      "  data_max = np.nanmax(X, axis=0)\n",
      "/opt/conda/lib/python3.6/site-packages/sklearn/preprocessing/data.py:364: RuntimeWarning: All-NaN slice encountered\n",
      "  data_min = np.nanmin(X, axis=0)\n",
      "/opt/conda/lib/python3.6/site-packages/sklearn/preprocessing/data.py:365: RuntimeWarning: All-NaN slice encountered\n",
      "  data_max = np.nanmax(X, axis=0)\n",
      "/opt/conda/lib/python3.6/site-packages/sklearn/preprocessing/data.py:364: RuntimeWarning: All-NaN slice encountered\n",
      "  data_min = np.nanmin(X, axis=0)\n",
      "/opt/conda/lib/python3.6/site-packages/sklearn/preprocessing/data.py:365: RuntimeWarning: All-NaN slice encountered\n",
      "  data_max = np.nanmax(X, axis=0)\n"
     ]
    },
    {
     "name": "stdout",
     "output_type": "stream",
     "text": [
      "48409/48409 [==============================] - 2s 46us/step\n",
      "48409/48409 [==============================] - 2s 47us/step\n",
      " 3424/48409 [=>............................] - ETA: 2s"
     ]
    },
    {
     "name": "stderr",
     "output_type": "stream",
     "text": [
      "/opt/conda/lib/python3.6/site-packages/sklearn/preprocessing/data.py:364: RuntimeWarning: All-NaN slice encountered\n",
      "  data_min = np.nanmin(X, axis=0)\n",
      "/opt/conda/lib/python3.6/site-packages/sklearn/preprocessing/data.py:365: RuntimeWarning: All-NaN slice encountered\n",
      "  data_max = np.nanmax(X, axis=0)\n",
      "/opt/conda/lib/python3.6/site-packages/sklearn/preprocessing/data.py:364: RuntimeWarning: All-NaN slice encountered\n",
      "  data_min = np.nanmin(X, axis=0)\n",
      "/opt/conda/lib/python3.6/site-packages/sklearn/preprocessing/data.py:365: RuntimeWarning: All-NaN slice encountered\n",
      "  data_max = np.nanmax(X, axis=0)\n",
      "/opt/conda/lib/python3.6/site-packages/sklearn/preprocessing/data.py:364: RuntimeWarning: All-NaN slice encountered\n",
      "  data_min = np.nanmin(X, axis=0)\n",
      "/opt/conda/lib/python3.6/site-packages/sklearn/preprocessing/data.py:365: RuntimeWarning: All-NaN slice encountered\n",
      "  data_max = np.nanmax(X, axis=0)\n"
     ]
    },
    {
     "name": "stdout",
     "output_type": "stream",
     "text": [
      "48409/48409 [==============================] - 2s 46us/step\n",
      "Stacked Test Accuracy: 0.491\n"
     ]
    }
   ],
   "source": [
    "# evaluate model on test set\n",
    "y_test_decode = np.argmax(y_test, axis=1)\n",
    "yhat = stacked_prediction(members, model, 2)\n",
    "acc = accuracy_score(y_test_decode, yhat)\n",
    "print('Stacked Test Accuracy: %.3f' % acc)"
   ]
  },
  {
   "cell_type": "code",
   "execution_count": 14,
   "metadata": {},
   "outputs": [
    {
     "name": "stdout",
     "output_type": "stream",
     "text": [
      "298911/298911 [==============================] - 14s 46us/step\n",
      "298911/298911 [==============================] - 14s 48us/step\n",
      "   864/298911 [..............................] - ETA: 21s "
     ]
    },
    {
     "name": "stderr",
     "output_type": "stream",
     "text": [
      "/opt/conda/lib/python3.6/site-packages/sklearn/preprocessing/data.py:364: RuntimeWarning: All-NaN slice encountered\n",
      "  data_min = np.nanmin(X, axis=0)\n",
      "/opt/conda/lib/python3.6/site-packages/sklearn/preprocessing/data.py:365: RuntimeWarning: All-NaN slice encountered\n",
      "  data_max = np.nanmax(X, axis=0)\n",
      "/opt/conda/lib/python3.6/site-packages/sklearn/preprocessing/data.py:364: RuntimeWarning: All-NaN slice encountered\n",
      "  data_min = np.nanmin(X, axis=0)\n",
      "/opt/conda/lib/python3.6/site-packages/sklearn/preprocessing/data.py:365: RuntimeWarning: All-NaN slice encountered\n",
      "  data_max = np.nanmax(X, axis=0)\n",
      "/opt/conda/lib/python3.6/site-packages/sklearn/preprocessing/data.py:364: RuntimeWarning: All-NaN slice encountered\n",
      "  data_min = np.nanmin(X, axis=0)\n",
      "/opt/conda/lib/python3.6/site-packages/sklearn/preprocessing/data.py:365: RuntimeWarning: All-NaN slice encountered\n",
      "  data_max = np.nanmax(X, axis=0)\n"
     ]
    },
    {
     "name": "stdout",
     "output_type": "stream",
     "text": [
      "298911/298911 [==============================] - 14s 48us/step\n",
      "298911/298911 [==============================] - 14s 47us/step\n",
      "  3136/298911 [..............................] - ETA: 15s"
     ]
    },
    {
     "name": "stderr",
     "output_type": "stream",
     "text": [
      "/opt/conda/lib/python3.6/site-packages/sklearn/preprocessing/data.py:364: RuntimeWarning: All-NaN slice encountered\n",
      "  data_min = np.nanmin(X, axis=0)\n",
      "/opt/conda/lib/python3.6/site-packages/sklearn/preprocessing/data.py:365: RuntimeWarning: All-NaN slice encountered\n",
      "  data_max = np.nanmax(X, axis=0)\n",
      "/opt/conda/lib/python3.6/site-packages/sklearn/preprocessing/data.py:364: RuntimeWarning: All-NaN slice encountered\n",
      "  data_min = np.nanmin(X, axis=0)\n",
      "/opt/conda/lib/python3.6/site-packages/sklearn/preprocessing/data.py:365: RuntimeWarning: All-NaN slice encountered\n",
      "  data_max = np.nanmax(X, axis=0)\n",
      "/opt/conda/lib/python3.6/site-packages/sklearn/preprocessing/data.py:364: RuntimeWarning: All-NaN slice encountered\n",
      "  data_min = np.nanmin(X, axis=0)\n",
      "/opt/conda/lib/python3.6/site-packages/sklearn/preprocessing/data.py:365: RuntimeWarning: All-NaN slice encountered\n",
      "  data_max = np.nanmax(X, axis=0)\n"
     ]
    },
    {
     "name": "stdout",
     "output_type": "stream",
     "text": [
      "298911/298911 [==============================] - 14s 47us/step\n",
      "  3328/298911 [..............................] - ETA: 14s"
     ]
    },
    {
     "name": "stderr",
     "output_type": "stream",
     "text": [
      "/opt/conda/lib/python3.6/site-packages/sklearn/preprocessing/data.py:364: RuntimeWarning: All-NaN slice encountered\n",
      "  data_min = np.nanmin(X, axis=0)\n",
      "/opt/conda/lib/python3.6/site-packages/sklearn/preprocessing/data.py:365: RuntimeWarning: All-NaN slice encountered\n",
      "  data_max = np.nanmax(X, axis=0)\n",
      "/opt/conda/lib/python3.6/site-packages/sklearn/preprocessing/data.py:364: RuntimeWarning: All-NaN slice encountered\n",
      "  data_min = np.nanmin(X, axis=0)\n",
      "/opt/conda/lib/python3.6/site-packages/sklearn/preprocessing/data.py:365: RuntimeWarning: All-NaN slice encountered\n",
      "  data_max = np.nanmax(X, axis=0)\n",
      "/opt/conda/lib/python3.6/site-packages/sklearn/preprocessing/data.py:364: RuntimeWarning: All-NaN slice encountered\n",
      "  data_min = np.nanmin(X, axis=0)\n",
      "/opt/conda/lib/python3.6/site-packages/sklearn/preprocessing/data.py:365: RuntimeWarning: All-NaN slice encountered\n",
      "  data_max = np.nanmax(X, axis=0)\n"
     ]
    },
    {
     "name": "stdout",
     "output_type": "stream",
     "text": [
      "298911/298911 [==============================] - 14s 46us/step\n",
      "  3040/298911 [..............................] - ETA: 15s"
     ]
    },
    {
     "name": "stderr",
     "output_type": "stream",
     "text": [
      "/opt/conda/lib/python3.6/site-packages/sklearn/preprocessing/data.py:364: RuntimeWarning: All-NaN slice encountered\n",
      "  data_min = np.nanmin(X, axis=0)\n",
      "/opt/conda/lib/python3.6/site-packages/sklearn/preprocessing/data.py:365: RuntimeWarning: All-NaN slice encountered\n",
      "  data_max = np.nanmax(X, axis=0)\n",
      "/opt/conda/lib/python3.6/site-packages/sklearn/preprocessing/data.py:364: RuntimeWarning: All-NaN slice encountered\n",
      "  data_min = np.nanmin(X, axis=0)\n",
      "/opt/conda/lib/python3.6/site-packages/sklearn/preprocessing/data.py:365: RuntimeWarning: All-NaN slice encountered\n",
      "  data_max = np.nanmax(X, axis=0)\n",
      "/opt/conda/lib/python3.6/site-packages/sklearn/preprocessing/data.py:364: RuntimeWarning: All-NaN slice encountered\n",
      "  data_min = np.nanmin(X, axis=0)\n",
      "/opt/conda/lib/python3.6/site-packages/sklearn/preprocessing/data.py:365: RuntimeWarning: All-NaN slice encountered\n",
      "  data_max = np.nanmax(X, axis=0)\n"
     ]
    },
    {
     "name": "stdout",
     "output_type": "stream",
     "text": [
      "298911/298911 [==============================] - 14s 46us/step\n",
      "298911/298911 [==============================] - 14s 46us/step\n",
      "  3008/298911 [..............................] - ETA: 16s"
     ]
    },
    {
     "name": "stderr",
     "output_type": "stream",
     "text": [
      "/opt/conda/lib/python3.6/site-packages/sklearn/preprocessing/data.py:364: RuntimeWarning: All-NaN slice encountered\n",
      "  data_min = np.nanmin(X, axis=0)\n",
      "/opt/conda/lib/python3.6/site-packages/sklearn/preprocessing/data.py:365: RuntimeWarning: All-NaN slice encountered\n",
      "  data_max = np.nanmax(X, axis=0)\n",
      "/opt/conda/lib/python3.6/site-packages/sklearn/preprocessing/data.py:364: RuntimeWarning: All-NaN slice encountered\n",
      "  data_min = np.nanmin(X, axis=0)\n",
      "/opt/conda/lib/python3.6/site-packages/sklearn/preprocessing/data.py:365: RuntimeWarning: All-NaN slice encountered\n",
      "  data_max = np.nanmax(X, axis=0)\n",
      "/opt/conda/lib/python3.6/site-packages/sklearn/preprocessing/data.py:364: RuntimeWarning: All-NaN slice encountered\n",
      "  data_min = np.nanmin(X, axis=0)\n",
      "/opt/conda/lib/python3.6/site-packages/sklearn/preprocessing/data.py:365: RuntimeWarning: All-NaN slice encountered\n",
      "  data_max = np.nanmax(X, axis=0)\n"
     ]
    },
    {
     "name": "stdout",
     "output_type": "stream",
     "text": [
      "298911/298911 [==============================] - 14s 46us/step\n",
      "298911/298911 [==============================] - 14s 47us/step\n",
      "  2080/298911 [..............................] - ETA: 15s"
     ]
    },
    {
     "name": "stderr",
     "output_type": "stream",
     "text": [
      "/opt/conda/lib/python3.6/site-packages/sklearn/preprocessing/data.py:364: RuntimeWarning: All-NaN slice encountered\n",
      "  data_min = np.nanmin(X, axis=0)\n",
      "/opt/conda/lib/python3.6/site-packages/sklearn/preprocessing/data.py:365: RuntimeWarning: All-NaN slice encountered\n",
      "  data_max = np.nanmax(X, axis=0)\n",
      "/opt/conda/lib/python3.6/site-packages/sklearn/preprocessing/data.py:364: RuntimeWarning: All-NaN slice encountered\n",
      "  data_min = np.nanmin(X, axis=0)\n",
      "/opt/conda/lib/python3.6/site-packages/sklearn/preprocessing/data.py:365: RuntimeWarning: All-NaN slice encountered\n",
      "  data_max = np.nanmax(X, axis=0)\n",
      "/opt/conda/lib/python3.6/site-packages/sklearn/preprocessing/data.py:364: RuntimeWarning: All-NaN slice encountered\n",
      "  data_min = np.nanmin(X, axis=0)\n",
      "/opt/conda/lib/python3.6/site-packages/sklearn/preprocessing/data.py:365: RuntimeWarning: All-NaN slice encountered\n",
      "  data_max = np.nanmax(X, axis=0)\n"
     ]
    },
    {
     "name": "stdout",
     "output_type": "stream",
     "text": [
      "298911/298911 [==============================] - 14s 45us/step\n",
      "Stacked Train Accuracy: 0.659\n"
     ]
    }
   ],
   "source": [
    "# evaluate model on test set\n",
    "yhat = stacked_prediction(members, model, 0)\n",
    "acc = accuracy_score(y_train_decode, yhat)\n",
    "print('Stacked Train Accuracy: %.3f' % acc)"
   ]
  },
  {
   "cell_type": "code",
   "execution_count": 16,
   "metadata": {},
   "outputs": [
    {
     "data": {
      "text/plain": [
       "0"
      ]
     },
     "execution_count": 16,
     "metadata": {},
     "output_type": "execute_result"
    }
   ],
   "source": [
    "np.isnan(valid).any().sum()"
   ]
  },
  {
   "cell_type": "code",
   "execution_count": null,
   "metadata": {},
   "outputs": [],
   "source": []
  }
 ],
 "metadata": {
  "kernelspec": {
   "display_name": "Python 3",
   "language": "python",
   "name": "python3"
  },
  "language_info": {
   "codemirror_mode": {
    "name": "ipython",
    "version": 3
   },
   "file_extension": ".py",
   "mimetype": "text/x-python",
   "name": "python",
   "nbconvert_exporter": "python",
   "pygments_lexer": "ipython3",
   "version": "3.6.8"
  }
 },
 "nbformat": 4,
 "nbformat_minor": 2
}
