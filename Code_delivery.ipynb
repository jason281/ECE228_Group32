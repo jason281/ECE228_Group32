{
 "cells": [
  {
   "cell_type": "markdown",
   "metadata": {},
   "source": [
    "# Data Downloading"
   ]
  },
  {
   "cell_type": "code",
   "execution_count": 1,
   "metadata": {},
   "outputs": [
    {
     "data": {
      "text/plain": [
       "256"
      ]
     },
     "execution_count": 1,
     "metadata": {},
     "output_type": "execute_result"
    }
   ],
   "source": [
    "import os\n",
    "os.system('bash Download.sh')"
   ]
  },
  {
   "cell_type": "markdown",
   "metadata": {},
   "source": [
    "# Data Preprocessing"
   ]
  },
  {
   "cell_type": "code",
   "execution_count": 2,
   "metadata": {},
   "outputs": [],
   "source": [
    "import pandas as pd\n",
    "import numpy as np\n",
    "import os, pickle\n",
    "from tqdm import tqdm_notebook as tqdm"
   ]
  },
  {
   "cell_type": "code",
   "execution_count": 4,
   "metadata": {},
   "outputs": [
    {
     "data": {
      "application/vnd.jupyter.widget-view+json": {
       "model_id": "d267fa524056442ea952f3be1b85d9f6",
       "version_major": 2,
       "version_minor": 0
      },
      "text/plain": [
       "HBox(children=(IntProgress(value=0, max=60), HTML(value='')))"
      ]
     },
     "metadata": {},
     "output_type": "display_data"
    },
    {
     "name": "stdout",
     "output_type": "stream",
     "text": [
      "\n"
     ]
    }
   ],
   "source": [
    "dataset_dir = '../ExtraSensory.per_uuid_features_labels'\n",
    "label_dir = '../ExtraSensory.per_uuid_original_labels'\n",
    "data = pd.DataFrame()\n",
    "for filename in tqdm(os.listdir(dataset_dir)):\n",
    "    key = filename[:filename.find('.')]\n",
    "    csv = pd.read_csv(os.path.join(dataset_dir, filename), index_col=0)\n",
    "    label = pd.read_csv(os.path.join(label_dir, key+'.original_labels.csv.gz'), index_col=0)\n",
    "    csv = csv.join(label.drop('label_source', axis=1))\n",
    "    csv = pd.concat([csv], keys=[key], names=['filename'])\n",
    "    data = csv if data.empty else data.append(csv)"
   ]
  },
  {
   "cell_type": "code",
   "execution_count": 5,
   "metadata": {},
   "outputs": [],
   "source": [
    "data.columns = pd.MultiIndex.from_tuples([tuple(i.split(':')) for i in data.columns], names=['1', '2', '3'])\n",
    "labels_col = [i for i in data.columns if i[0].startswith('original_label')]\n",
    "main_labels_col = [('main_label', i[1], i[2]) for i in labels_col[:7]]\n",
    "df = pd.DataFrame(data[labels_col[:7]].values,\\\n",
    "                  columns=pd.MultiIndex.from_tuples(main_labels_col, names=['1', '2', '3']), \\\n",
    "                  index=data.index)\n",
    "\n",
    "data = data.join(df)\n",
    "data[('main_label', 'missing', np.nan)] = 1-data['main_label'].sum(axis=1)"
   ]
  },
  {
   "cell_type": "code",
   "execution_count": 8,
   "metadata": {},
   "outputs": [
    {
     "name": "stdout",
     "output_type": "stream",
     "text": [
      "377346 data, 401 columns\n"
     ]
    },
    {
     "data": {
      "text/html": [
       "<div>\n",
       "<style scoped>\n",
       "    .dataframe tbody tr th:only-of-type {\n",
       "        vertical-align: middle;\n",
       "    }\n",
       "\n",
       "    .dataframe tbody tr th {\n",
       "        vertical-align: top;\n",
       "    }\n",
       "\n",
       "    .dataframe thead tr th {\n",
       "        text-align: left;\n",
       "    }\n",
       "\n",
       "    .dataframe thead tr:last-of-type th {\n",
       "        text-align: right;\n",
       "    }\n",
       "</style>\n",
       "<table border=\"1\" class=\"dataframe\">\n",
       "  <thead>\n",
       "    <tr>\n",
       "      <th></th>\n",
       "      <th>1</th>\n",
       "      <th colspan=\"10\" halign=\"left\">raw_acc</th>\n",
       "      <th>...</th>\n",
       "      <th colspan=\"2\" halign=\"left\">original_label</th>\n",
       "      <th colspan=\"8\" halign=\"left\">main_label</th>\n",
       "    </tr>\n",
       "    <tr>\n",
       "      <th></th>\n",
       "      <th>2</th>\n",
       "      <th colspan=\"9\" halign=\"left\">magnitude_stats</th>\n",
       "      <th>magnitude_spectrum</th>\n",
       "      <th>...</th>\n",
       "      <th>TAKING_CARE_OF_KIDS</th>\n",
       "      <th>WITH_A_PET</th>\n",
       "      <th>LYING_DOWN</th>\n",
       "      <th>SITTING</th>\n",
       "      <th>STANDING_IN_PLACE</th>\n",
       "      <th>STANDING_AND_MOVING</th>\n",
       "      <th>WALKING</th>\n",
       "      <th>RUNNING</th>\n",
       "      <th>BICYCLING</th>\n",
       "      <th>missing</th>\n",
       "    </tr>\n",
       "    <tr>\n",
       "      <th></th>\n",
       "      <th>3</th>\n",
       "      <th>mean</th>\n",
       "      <th>std</th>\n",
       "      <th>moment3</th>\n",
       "      <th>moment4</th>\n",
       "      <th>percentile25</th>\n",
       "      <th>percentile50</th>\n",
       "      <th>percentile75</th>\n",
       "      <th>value_entropy</th>\n",
       "      <th>time_entropy</th>\n",
       "      <th>log_energy_band0</th>\n",
       "      <th>...</th>\n",
       "      <th>NaN</th>\n",
       "      <th>NaN</th>\n",
       "      <th>NaN</th>\n",
       "      <th>NaN</th>\n",
       "      <th>NaN</th>\n",
       "      <th>NaN</th>\n",
       "      <th>NaN</th>\n",
       "      <th>NaN</th>\n",
       "      <th>NaN</th>\n",
       "      <th>NaN</th>\n",
       "    </tr>\n",
       "    <tr>\n",
       "      <th>filename</th>\n",
       "      <th>timestamp</th>\n",
       "      <th></th>\n",
       "      <th></th>\n",
       "      <th></th>\n",
       "      <th></th>\n",
       "      <th></th>\n",
       "      <th></th>\n",
       "      <th></th>\n",
       "      <th></th>\n",
       "      <th></th>\n",
       "      <th></th>\n",
       "      <th></th>\n",
       "      <th></th>\n",
       "      <th></th>\n",
       "      <th></th>\n",
       "      <th></th>\n",
       "      <th></th>\n",
       "      <th></th>\n",
       "      <th></th>\n",
       "      <th></th>\n",
       "      <th></th>\n",
       "      <th></th>\n",
       "    </tr>\n",
       "  </thead>\n",
       "  <tbody>\n",
       "    <tr>\n",
       "      <th rowspan=\"5\" valign=\"top\">81536B0A-8DBF-4D8A-AC24-9543E2E4C8E0</th>\n",
       "      <th>1446141691</th>\n",
       "      <td>1.009726</td>\n",
       "      <td>0.002838</td>\n",
       "      <td>-0.002296</td>\n",
       "      <td>0.005568</td>\n",
       "      <td>1.008208</td>\n",
       "      <td>1.009735</td>\n",
       "      <td>1.011174</td>\n",
       "      <td>1.572784</td>\n",
       "      <td>6.684608</td>\n",
       "      <td>5.043602</td>\n",
       "      <td>...</td>\n",
       "      <td>0</td>\n",
       "      <td>0</td>\n",
       "      <td>0</td>\n",
       "      <td>1</td>\n",
       "      <td>0</td>\n",
       "      <td>0</td>\n",
       "      <td>0</td>\n",
       "      <td>0</td>\n",
       "      <td>0</td>\n",
       "      <td>0</td>\n",
       "    </tr>\n",
       "    <tr>\n",
       "      <th>1446141752</th>\n",
       "      <td>1.009822</td>\n",
       "      <td>0.004624</td>\n",
       "      <td>0.003040</td>\n",
       "      <td>0.008459</td>\n",
       "      <td>1.007704</td>\n",
       "      <td>1.009619</td>\n",
       "      <td>1.011857</td>\n",
       "      <td>1.754729</td>\n",
       "      <td>6.684601</td>\n",
       "      <td>5.043674</td>\n",
       "      <td>...</td>\n",
       "      <td>0</td>\n",
       "      <td>0</td>\n",
       "      <td>0</td>\n",
       "      <td>1</td>\n",
       "      <td>0</td>\n",
       "      <td>0</td>\n",
       "      <td>0</td>\n",
       "      <td>0</td>\n",
       "      <td>0</td>\n",
       "      <td>0</td>\n",
       "    </tr>\n",
       "    <tr>\n",
       "      <th>1446141805</th>\n",
       "      <td>1.009667</td>\n",
       "      <td>0.004781</td>\n",
       "      <td>-0.007802</td>\n",
       "      <td>0.014457</td>\n",
       "      <td>1.008038</td>\n",
       "      <td>1.009772</td>\n",
       "      <td>1.011139</td>\n",
       "      <td>1.012852</td>\n",
       "      <td>6.684600</td>\n",
       "      <td>5.043693</td>\n",
       "      <td>...</td>\n",
       "      <td>0</td>\n",
       "      <td>0</td>\n",
       "      <td>0</td>\n",
       "      <td>1</td>\n",
       "      <td>0</td>\n",
       "      <td>0</td>\n",
       "      <td>0</td>\n",
       "      <td>0</td>\n",
       "      <td>0</td>\n",
       "      <td>0</td>\n",
       "    </tr>\n",
       "    <tr>\n",
       "      <th>1446141873</th>\n",
       "      <td>1.008839</td>\n",
       "      <td>0.003543</td>\n",
       "      <td>0.001831</td>\n",
       "      <td>0.007082</td>\n",
       "      <td>1.007134</td>\n",
       "      <td>1.008803</td>\n",
       "      <td>1.010433</td>\n",
       "      <td>1.511878</td>\n",
       "      <td>6.684606</td>\n",
       "      <td>5.043562</td>\n",
       "      <td>...</td>\n",
       "      <td>0</td>\n",
       "      <td>0</td>\n",
       "      <td>0</td>\n",
       "      <td>1</td>\n",
       "      <td>0</td>\n",
       "      <td>0</td>\n",
       "      <td>0</td>\n",
       "      <td>0</td>\n",
       "      <td>0</td>\n",
       "      <td>0</td>\n",
       "    </tr>\n",
       "    <tr>\n",
       "      <th>1446141925</th>\n",
       "      <td>1.008193</td>\n",
       "      <td>0.001753</td>\n",
       "      <td>-0.000744</td>\n",
       "      <td>0.002439</td>\n",
       "      <td>1.007142</td>\n",
       "      <td>1.008234</td>\n",
       "      <td>1.009350</td>\n",
       "      <td>2.347186</td>\n",
       "      <td>6.684610</td>\n",
       "      <td>5.043546</td>\n",
       "      <td>...</td>\n",
       "      <td>0</td>\n",
       "      <td>0</td>\n",
       "      <td>0</td>\n",
       "      <td>1</td>\n",
       "      <td>0</td>\n",
       "      <td>0</td>\n",
       "      <td>0</td>\n",
       "      <td>0</td>\n",
       "      <td>0</td>\n",
       "      <td>0</td>\n",
       "    </tr>\n",
       "  </tbody>\n",
       "</table>\n",
       "<p>5 rows × 401 columns</p>\n",
       "</div>"
      ],
      "text/plain": [
       "1                                                       raw_acc            \\\n",
       "2                                               magnitude_stats             \n",
       "3                                                          mean       std   \n",
       "filename                             timestamp                              \n",
       "81536B0A-8DBF-4D8A-AC24-9543E2E4C8E0 1446141691        1.009726  0.002838   \n",
       "                                     1446141752        1.009822  0.004624   \n",
       "                                     1446141805        1.009667  0.004781   \n",
       "                                     1446141873        1.008839  0.003543   \n",
       "                                     1446141925        1.008193  0.001753   \n",
       "\n",
       "1                                                                    \\\n",
       "2                                                                     \n",
       "3                                                 moment3   moment4   \n",
       "filename                             timestamp                        \n",
       "81536B0A-8DBF-4D8A-AC24-9543E2E4C8E0 1446141691 -0.002296  0.005568   \n",
       "                                     1446141752  0.003040  0.008459   \n",
       "                                     1446141805 -0.007802  0.014457   \n",
       "                                     1446141873  0.001831  0.007082   \n",
       "                                     1446141925 -0.000744  0.002439   \n",
       "\n",
       "1                                                                          \\\n",
       "2                                                                           \n",
       "3                                               percentile25 percentile50   \n",
       "filename                             timestamp                              \n",
       "81536B0A-8DBF-4D8A-AC24-9543E2E4C8E0 1446141691     1.008208     1.009735   \n",
       "                                     1446141752     1.007704     1.009619   \n",
       "                                     1446141805     1.008038     1.009772   \n",
       "                                     1446141873     1.007134     1.008803   \n",
       "                                     1446141925     1.007142     1.008234   \n",
       "\n",
       "1                                                                           \\\n",
       "2                                                                            \n",
       "3                                               percentile75 value_entropy   \n",
       "filename                             timestamp                               \n",
       "81536B0A-8DBF-4D8A-AC24-9543E2E4C8E0 1446141691     1.011174      1.572784   \n",
       "                                     1446141752     1.011857      1.754729   \n",
       "                                     1446141805     1.011139      1.012852   \n",
       "                                     1446141873     1.010433      1.511878   \n",
       "                                     1446141925     1.009350      2.347186   \n",
       "\n",
       "1                                                             \\\n",
       "2                                                              \n",
       "3                                               time_entropy   \n",
       "filename                             timestamp                 \n",
       "81536B0A-8DBF-4D8A-AC24-9543E2E4C8E0 1446141691     6.684608   \n",
       "                                     1446141752     6.684601   \n",
       "                                     1446141805     6.684600   \n",
       "                                     1446141873     6.684606   \n",
       "                                     1446141925     6.684610   \n",
       "\n",
       "1                                                                    ...    \\\n",
       "2                                               magnitude_spectrum   ...     \n",
       "3                                                 log_energy_band0   ...     \n",
       "filename                             timestamp                       ...     \n",
       "81536B0A-8DBF-4D8A-AC24-9543E2E4C8E0 1446141691           5.043602   ...     \n",
       "                                     1446141752           5.043674   ...     \n",
       "                                     1446141805           5.043693   ...     \n",
       "                                     1446141873           5.043562   ...     \n",
       "                                     1446141925           5.043546   ...     \n",
       "\n",
       "1                                                    original_label  \\\n",
       "2                                               TAKING_CARE_OF_KIDS   \n",
       "3                                                               NaN   \n",
       "filename                             timestamp                        \n",
       "81536B0A-8DBF-4D8A-AC24-9543E2E4C8E0 1446141691                   0   \n",
       "                                     1446141752                   0   \n",
       "                                     1446141805                   0   \n",
       "                                     1446141873                   0   \n",
       "                                     1446141925                   0   \n",
       "\n",
       "1                                                          main_label          \\\n",
       "2                                               WITH_A_PET LYING_DOWN SITTING   \n",
       "3                                                      NaN        NaN     NaN   \n",
       "filename                             timestamp                                  \n",
       "81536B0A-8DBF-4D8A-AC24-9543E2E4C8E0 1446141691          0          0       1   \n",
       "                                     1446141752          0          0       1   \n",
       "                                     1446141805          0          0       1   \n",
       "                                     1446141873          0          0       1   \n",
       "                                     1446141925          0          0       1   \n",
       "\n",
       "1                                                                  \\\n",
       "2                                               STANDING_IN_PLACE   \n",
       "3                                                             NaN   \n",
       "filename                             timestamp                      \n",
       "81536B0A-8DBF-4D8A-AC24-9543E2E4C8E0 1446141691                 0   \n",
       "                                     1446141752                 0   \n",
       "                                     1446141805                 0   \n",
       "                                     1446141873                 0   \n",
       "                                     1446141925                 0   \n",
       "\n",
       "1                                                                            \\\n",
       "2                                               STANDING_AND_MOVING WALKING   \n",
       "3                                                               NaN     NaN   \n",
       "filename                             timestamp                                \n",
       "81536B0A-8DBF-4D8A-AC24-9543E2E4C8E0 1446141691                   0       0   \n",
       "                                     1446141752                   0       0   \n",
       "                                     1446141805                   0       0   \n",
       "                                     1446141873                   0       0   \n",
       "                                     1446141925                   0       0   \n",
       "\n",
       "1                                                                          \n",
       "2                                               RUNNING BICYCLING missing  \n",
       "3                                                   NaN       NaN     NaN  \n",
       "filename                             timestamp                             \n",
       "81536B0A-8DBF-4D8A-AC24-9543E2E4C8E0 1446141691       0         0       0  \n",
       "                                     1446141752       0         0       0  \n",
       "                                     1446141805       0         0       0  \n",
       "                                     1446141873       0         0       0  \n",
       "                                     1446141925       0         0       0  \n",
       "\n",
       "[5 rows x 401 columns]"
      ]
     },
     "metadata": {},
     "output_type": "display_data"
    }
   ],
   "source": [
    "print('{} data, {} columns'.format(*data.shape))\n",
    "display(data.head())"
   ]
  },
  {
   "cell_type": "code",
   "execution_count": 9,
   "metadata": {},
   "outputs": [],
   "source": [
    "users = list(set(data.index.get_level_values(0)))\n",
    "np.random.shuffle(users)\n",
    "train_user_num = int(len(users)*0.8)\n",
    "valid_user_num = int(len(users)*0.1)\n",
    "test_user_num = len(users) - train_user_num - valid_user_num\n",
    "train, valid = data.loc[users[:train_user_num]], data.loc[users[train_user_num:train_user_num+valid_user_num]]\n",
    "test = data.loc[users[-test_user_num:]]"
   ]
  },
  {
   "cell_type": "markdown",
   "metadata": {},
   "source": [
    "# Train Network"
   ]
  },
  {
   "cell_type": "code",
   "execution_count": 13,
   "metadata": {},
   "outputs": [
    {
     "name": "stderr",
     "output_type": "stream",
     "text": [
      "Using TensorFlow backend.\n"
     ]
    }
   ],
   "source": [
    "import matplotlib.pyplot as plt\n",
    "from keras.models import Sequential\n",
    "import keras.layers\n",
    "from keras.layers import Dense\n",
    "from keras.layers import Dropout\n",
    "from keras.layers import LSTM\n",
    "from keras.layers import BatchNormalization\n",
    "from keras.regularizers import L1L2\n",
    "from keras.callbacks import EarlyStopping\n",
    "from keras.wrappers.scikit_learn import KerasClassifier\n",
    "from keras.utils import np_utils\n",
    "from sklearn.preprocessing import MinMaxScaler\n",
    "from sklearn.model_selection import cross_val_score\n",
    "from sklearn.model_selection import KFold\n",
    "from sklearn.preprocessing import LabelEncoder\n",
    "from sklearn.pipeline import Pipeline\n",
    "from sklearn.metrics import accuracy_score\n",
    "import tensorflow as tf"
   ]
  },
  {
   "cell_type": "code",
   "execution_count": 10,
   "metadata": {},
   "outputs": [],
   "source": [
    "train = train.fillna(0)\n",
    "valid = valid.fillna(0)\n",
    "test = test.fillna(0)"
   ]
  },
  {
   "cell_type": "code",
   "execution_count": 11,
   "metadata": {},
   "outputs": [],
   "source": [
    "x_train = train[['raw_acc','proc_gyro','raw_magnet','watch_acceleration','watch_heading', 'location', 'location_quick_features', 'audio_naive', 'audio_properties', 'discrete', 'lf_measurements']]\n",
    "y_train = train.iloc[:,-8:]\n",
    "x_valid = valid[['raw_acc','proc_gyro','raw_magnet','watch_acceleration','watch_heading', 'location', 'location_quick_features', 'audio_naive', 'audio_properties', 'discrete', 'lf_measurements']]\n",
    "y_valid = np.asarray(valid.iloc[:,-8:])\n",
    "x_test = test[['raw_acc','proc_gyro','raw_magnet','watch_acceleration','watch_heading', 'location', 'location_quick_features', 'audio_naive', 'audio_properties', 'discrete', 'lf_measurements']]\n",
    "y_test = np.asarray(test.iloc[:,-8:])"
   ]
  },
  {
   "cell_type": "code",
   "execution_count": 14,
   "metadata": {},
   "outputs": [],
   "source": [
    "scaler = MinMaxScaler() #scale features between 0 and 1\n",
    "x_train = scaler.fit_transform(x_train)\n",
    "x_valid = scaler.transform(x_valid)\n",
    "x_test = scaler.transform(x_test)"
   ]
  },
  {
   "cell_type": "code",
   "execution_count": 15,
   "metadata": {},
   "outputs": [
    {
     "name": "stdout",
     "output_type": "stream",
     "text": [
      "WARNING:tensorflow:From /usr/local/lib/python3.7/site-packages/tensorflow/python/framework/op_def_library.py:263: colocate_with (from tensorflow.python.framework.ops) is deprecated and will be removed in a future version.\n",
      "Instructions for updating:\n",
      "Colocations handled automatically by placer.\n",
      "WARNING:tensorflow:From /usr/local/lib/python3.7/site-packages/keras/backend/tensorflow_backend.py:3445: calling dropout (from tensorflow.python.ops.nn_ops) with keep_prob is deprecated and will be removed in a future version.\n",
      "Instructions for updating:\n",
      "Please use `rate` instead of `keep_prob`. Rate should be set to `rate = 1 - keep_prob`.\n"
     ]
    }
   ],
   "source": [
    "model = Sequential()\n",
    "#model.add(LSTM(500, input_shape=(x_train.shape[1], x_train.shape[2]), bias_regularizer=L1L2(l1=0.01, l2=0.01)))\n",
    "#model.add(LSTM(500, input_shape=(x_train.shape[1], x_train.shape[2])))\n",
    "model.add(Dense(2000, input_dim=x_train.shape[1], activation='relu'))\n",
    "model.add(Dropout(0.2, noise_shape=None, seed=None))\n",
    "model.add(BatchNormalization())\n",
    "model.add(Dense(100, activation='relu'))\n",
    "model.add(BatchNormalization())\n",
    "model.add(Dense(y_train.shape[1], activation='softmax'))\n",
    "model.compile(loss='categorical_crossentropy', optimizer='adam', metrics=['accuracy'])"
   ]
  },
  {
   "cell_type": "code",
   "execution_count": null,
   "metadata": {},
   "outputs": [
    {
     "name": "stdout",
     "output_type": "stream",
     "text": [
      "WARNING:tensorflow:From /usr/local/lib/python3.7/site-packages/tensorflow/python/ops/math_ops.py:3066: to_int32 (from tensorflow.python.ops.math_ops) is deprecated and will be removed in a future version.\n",
      "Instructions for updating:\n",
      "Use tf.cast instead.\n",
      "Train on 310746 samples, validate on 28020 samples\n",
      "Epoch 1/20\n",
      "  4200/310746 [..............................] - ETA: 1:45 - loss: 1.5700 - acc: 0.5400"
     ]
    }
   ],
   "source": [
    "history = model.fit([x_train], batch_size=100, y=y_train, verbose=1, validation_data=(x_valid, y_valid), \n",
    "          shuffle=True, epochs=20)"
   ]
  },
  {
   "cell_type": "code",
   "execution_count": null,
   "metadata": {},
   "outputs": [],
   "source": []
  }
 ],
 "metadata": {
  "kernelspec": {
   "display_name": "Python 3",
   "language": "python",
   "name": "python3"
  },
  "language_info": {
   "codemirror_mode": {
    "name": "ipython",
    "version": 3
   },
   "file_extension": ".py",
   "mimetype": "text/x-python",
   "name": "python",
   "nbconvert_exporter": "python",
   "pygments_lexer": "ipython3",
   "version": "3.7.0"
  },
  "varInspector": {
   "cols": {
    "lenName": 16,
    "lenType": 16,
    "lenVar": 40
   },
   "kernels_config": {
    "python": {
     "delete_cmd_postfix": "",
     "delete_cmd_prefix": "del ",
     "library": "var_list.py",
     "varRefreshCmd": "print(var_dic_list())"
    },
    "r": {
     "delete_cmd_postfix": ") ",
     "delete_cmd_prefix": "rm(",
     "library": "var_list.r",
     "varRefreshCmd": "cat(var_dic_list()) "
    }
   },
   "types_to_exclude": [
    "module",
    "function",
    "builtin_function_or_method",
    "instance",
    "_Feature"
   ],
   "window_display": false
  }
 },
 "nbformat": 4,
 "nbformat_minor": 2
}
